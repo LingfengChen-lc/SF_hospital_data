{
  "nbformat": 4,
  "nbformat_minor": 0,
  "metadata": {
    "colab": {
      "name": "Lingfeng_SF_data_VAE_generate_balanced_dataset.ipynb",
      "provenance": [],
      "collapsed_sections": [],
      "authorship_tag": "ABX9TyOuiePWkKCRXUehr9zEvJQL",
      "include_colab_link": true
    },
    "kernelspec": {
      "display_name": "Python 3",
      "name": "python3"
    }
  },
  "cells": [
    {
      "cell_type": "markdown",
      "metadata": {
        "id": "view-in-github",
        "colab_type": "text"
      },
      "source": [
        "<a href=\"https://colab.research.google.com/github/LingfengChen-lc/SF_hospital_data/blob/main/Lingfeng_SF_data_VAE_generate_balanced_dataset.ipynb\" target=\"_parent\"><img src=\"https://colab.research.google.com/assets/colab-badge.svg\" alt=\"Open In Colab\"/></a>"
      ]
    },
    {
      "cell_type": "code",
      "metadata": {
        "colab": {
          "base_uri": "https://localhost:8080/"
        },
        "id": "-6HFxmSR0crp",
        "outputId": "9fd60d62-c0e5-419a-ac15-2bfac6dcfeae"
      },
      "source": [
        "from google.colab import drive\n",
        "import pandas as pd\n",
        "import numpy as np\n",
        "import matplotlib.pyplot as plt\n",
        "import seaborn as sns\n",
        "from sklearn.model_selection import train_test_split\n",
        "import warnings\n",
        "\n",
        "warnings.filterwarnings(\"ignore\")\n",
        "drive.mount('/content/gdrive/', force_remount=True)"
      ],
      "execution_count": 1,
      "outputs": [
        {
          "output_type": "stream",
          "text": [
            "Mounted at /content/gdrive/\n"
          ],
          "name": "stdout"
        }
      ]
    },
    {
      "cell_type": "code",
      "metadata": {
        "id": "vTK5K_hzZGry"
      },
      "source": [
        "from numpy import mean\n",
        "from numpy import std\n",
        "from sklearn.ensemble import RandomForestClassifier\n",
        "from sklearn.metrics import confusion_matrix, accuracy_score, roc_auc_score\n",
        "from sklearn.model_selection import cross_val_score\n",
        "from sklearn.model_selection import RepeatedStratifiedKFold\n",
        "import time"
      ],
      "execution_count": 2,
      "outputs": []
    },
    {
      "cell_type": "code",
      "metadata": {
        "colab": {
          "base_uri": "https://localhost:8080/"
        },
        "id": "2eUz-Zm1gWL2",
        "outputId": "66efcf61-cfc3-4ef1-bff4-d2aca28dc438"
      },
      "source": [
        "!ls gdrive/MyDrive/ML-TRAUMA\\ PROJECT/F20-TEAM\\ PROGRESS/F20/F20\\ Monte\\ Carlo/RESULTS/"
      ],
      "execution_count": 3,
      "outputs": [
        {
          "output_type": "stream",
          "text": [
            " Bellevue.csv\n",
            " Bellevue.xlsx\n",
            " Figures\n",
            "'Lingfeng_SF_data_VAE_generate_balanced_dataset (1).ipynb'\n",
            " SF_IMP_ALL_OUTCOMES.csv\n",
            " SF_IMP_ALL_OUTCOMES.gsheet\n",
            " SF_IMP_MOF.csv\n",
            " SF_IMP_MORTALITY.csv\n",
            " SF_IMP_MORTALITY.gsheet\n",
            " SF_IMP_TRAUMA.csv\n",
            "'SF_IMPUTED (1).gsheet'\n",
            "'SF_IMPUTED (2).gsheet'\n",
            " SF_IMPUTED.csv\n",
            " SF_IMPUTED.gsheet\n",
            " SF_IMP_VTE.csv\n",
            " SF_ISS_IMP.csv\n",
            "'SF_TIMESERIES (1).gsheet'\n",
            " SF_TIMESERIES.csv\n",
            " SF_TIMESERIES.gsheet\n",
            " SF_TRAUMA_IMP.csv\n",
            " SF_TRAUMA_IMP.gsheet\n",
            "'Will_Imputation&SuperLearner.ipynb'\n",
            " Will_VirtualPatients.ipynb\n"
          ],
          "name": "stdout"
        }
      ]
    },
    {
      "cell_type": "markdown",
      "metadata": {
        "id": "OyyZnwtpNoRr"
      },
      "source": [
        "**Import the Data**"
      ]
    },
    {
      "cell_type": "markdown",
      "metadata": {
        "id": "1MsiKo8TXp3g"
      },
      "source": [
        "Weekly works: \n",
        "\n",
        "1. visualize for comparison of accuracies\n",
        "2. visualize distribution of each parameter\n",
        "3. try use ony 10 epoches and test for accuracy (check, unchanged, so can use only 10 epoches to generate visuals)\n",
        "  3a. Try make the graph more consistent, why cluster after 80 epoches. \n",
        "4. modify on VAE itself, and try Monte Carlo Dropouts\n",
        "5. Finish GDA, try remove negative values, and visualize for distribution, compute model accuracy improvements.\n",
        "6. Build a pipeline and apply cv to split-generate-test"
      ]
    },
    {
      "cell_type": "markdown",
      "metadata": {
        "id": "teOwOlYvA23Y"
      },
      "source": [
        "1. Lower dimension of vae AND check for accuracy/clustering\n",
        "\n",
        "2. Use absolute mean metrics to measure similarity between virtual and real patients\n",
        "\n",
        "3. Try with VAE with Monte Carlo DROPS\n",
        "\n",
        "4. look into why clustering\n",
        "\n"
      ]
    },
    {
      "cell_type": "markdown",
      "metadata": {
        "id": "4Ad5D8fYmf44"
      },
      "source": [
        "draw X and Y axis\n",
        "\n",
        "experiment with sklearn GDA, alter the parameters\n",
        "\n",
        "check accuracy"
      ]
    },
    {
      "cell_type": "markdown",
      "metadata": {
        "id": "kwq6AMDYeMCr"
      },
      "source": [
        "Check standard implementation of GDA, search if can model prior other than normal distribution. \n",
        "\n",
        "summary methods, state limitations, possible errors"
      ]
    },
    {
      "cell_type": "markdown",
      "metadata": {
        "id": "gWjBBX2YHj7U"
      },
      "source": [
        "MOF = 0 and mortality 0 (majority)"
      ]
    },
    {
      "cell_type": "code",
      "metadata": {
        "id": "5H9fcEKzbxQd"
      },
      "source": [
        "# trauma_data = pd.read_excel('gdrive/MyDrive/ML-TRAUMA PROJECT/F20-TEAM PROGRESS/F20/F20 Monte Carlo/RESULTS/SF_IMPUTED.gsheet')\n",
        "original_df = pd.read_excel('gdrive/MyDrive/SF_IMPUTED.xlsx')\n",
        "original_df.drop(columns=['hr0_ptt.1', 'hr0_factorviii'], inplace=True)\n",
        "original_df.loc[1201, 'hr0_temp'] = 39.0"
      ],
      "execution_count": null,
      "outputs": []
    },
    {
      "cell_type": "code",
      "metadata": {
        "colab": {
          "base_uri": "https://localhost:8080/"
        },
        "id": "GelXEhKTRfNp",
        "outputId": "612ccba8-d13d-4390-892b-c6f4f4b96147"
      },
      "source": [
        "Interest_features = ['hr0_creatinine', 'hr0_wbc', 'hr0_ddimer', 'hr0_plts', 'hr0_pt', 'hr0_temp']\n",
        "original_df.columns"
      ],
      "execution_count": null,
      "outputs": [
        {
          "output_type": "execute_result",
          "data": {
            "text/plain": [
              "Index(['hr0_temp', 'hr0_hr', 'hr0_resprate', 'hr0_sbp', 'hr0_ph', 'hr0_bun',\n",
              "       'hr0_creatinine', 'hr0_wbc', 'hr0_hgb', 'hr0_hct', 'hr0_factorii',\n",
              "       'hr0_factorv', 'hr0_factorx', 'hr0_tfpi', 'hr0_ddimer', 'hr0_pt',\n",
              "       'hr0_ptt', 'hr0_inr', 'hr0_plts', 'Mortality'],\n",
              "      dtype='object')"
            ]
          },
          "metadata": {
            "tags": []
          },
          "execution_count": 5
        }
      ]
    },
    {
      "cell_type": "code",
      "metadata": {
        "colab": {
          "base_uri": "https://localhost:8080/",
          "height": 964
        },
        "id": "GB4j_sz43AeO",
        "outputId": "051faa34-1c44-403f-8bec-7a666be6baae"
      },
      "source": [
        "original_df.hist(bins=20, figsize=(20,10))"
      ],
      "execution_count": null,
      "outputs": [
        {
          "output_type": "execute_result",
          "data": {
            "text/plain": [
              "array([[<matplotlib.axes._subplots.AxesSubplot object at 0x7f417b717c10>,\n",
              "        <matplotlib.axes._subplots.AxesSubplot object at 0x7f417b6e3150>,\n",
              "        <matplotlib.axes._subplots.AxesSubplot object at 0x7f417b69a6d0>,\n",
              "        <matplotlib.axes._subplots.AxesSubplot object at 0x7f417b651d50>],\n",
              "       [<matplotlib.axes._subplots.AxesSubplot object at 0x7f417b614410>,\n",
              "        <matplotlib.axes._subplots.AxesSubplot object at 0x7f417b5c9a90>,\n",
              "        <matplotlib.axes._subplots.AxesSubplot object at 0x7f417b58b1d0>,\n",
              "        <matplotlib.axes._subplots.AxesSubplot object at 0x7f417b541790>],\n",
              "       [<matplotlib.axes._subplots.AxesSubplot object at 0x7f417b5417d0>,\n",
              "        <matplotlib.axes._subplots.AxesSubplot object at 0x7f417b574f50>,\n",
              "        <matplotlib.axes._subplots.AxesSubplot object at 0x7f417b4edb90>,\n",
              "        <matplotlib.axes._subplots.AxesSubplot object at 0x7f417b4b0250>],\n",
              "       [<matplotlib.axes._subplots.AxesSubplot object at 0x7f417b4658d0>,\n",
              "        <matplotlib.axes._subplots.AxesSubplot object at 0x7f417b651890>,\n",
              "        <matplotlib.axes._subplots.AxesSubplot object at 0x7f417b4b0450>,\n",
              "        <matplotlib.axes._subplots.AxesSubplot object at 0x7f418028f050>],\n",
              "       [<matplotlib.axes._subplots.AxesSubplot object at 0x7f4180277310>,\n",
              "        <matplotlib.axes._subplots.AxesSubplot object at 0x7f41801ae750>,\n",
              "        <matplotlib.axes._subplots.AxesSubplot object at 0x7f41800e68d0>,\n",
              "        <matplotlib.axes._subplots.AxesSubplot object at 0x7f41801f4f50>]],\n",
              "      dtype=object)"
            ]
          },
          "metadata": {
            "tags": []
          },
          "execution_count": 7
        },
        {
          "output_type": "display_data",
          "data": {
            "image/png": "[encoded data removed]",
            "text/plain": [
              "<Figure size 1440x720 with 20 Axes>"
            ]
          },
          "metadata": {
            "tags": [],
            "needs_background": "light"
          }
        }
      ]
    },
    {
      "cell_type": "code",
      "metadata": {
        "id": "OLdDiB134LHE"
      },
      "source": [
        "#transform certain variables to make normal distributed\n",
        "features = ['hr0_temp', 'hr0_resprate', 'hr0_bun', 'hr0_creatinine', 'hr0_pt', 'hr0_ptt', 'hr0_inr']\n",
        "for f in features:\n",
        "  original_df[f] = np.log(original_df[f])\n",
        "\n",
        "original_df.hist(bins=20, figsize=(20,10))"
      ],
      "execution_count": null,
      "outputs": []
    },
    {
      "cell_type": "markdown",
      "metadata": {
        "id": "91vbNvlCPvJ4"
      },
      "source": [
        "**Visualize for VAE (variational autoencoder)**\n",
        "1. Train VAE\n",
        "2. Use PCA to visualize data"
      ]
    },
    {
      "cell_type": "code",
      "metadata": {
        "id": "HL_RZ52zP88e"
      },
      "source": [
        "# VAE model\n",
        "import tensorflow as tf\n",
        "from tensorflow import keras\n",
        "from tensorflow.keras import layers\n",
        "from sklearn.model_selection import train_test_split\n",
        "from keras.regularizers import l2\n",
        "from keras import backend as K\n",
        "from keras.models import Model\n",
        "from keras.utils import plot_model\n",
        "from keras.losses import mse, binary_crossentropy, categorical_crossentropy\n",
        "from keras.layers import Lambda, Input, Dense, Dropout\n",
        "from sklearn.preprocessing import MinMaxScaler, StandardScaler\n",
        "original_dim = original_df.shape[1] - 1\n",
        "\n",
        "#code from https://github.com/KristianMiok/MCD-VAE/blob/master/New_MC_VAE_VAE_Comparision.ipynb\n",
        "\n",
        "class VAE:\n",
        "    def __init__(self, input_shape=(original_dim,), \n",
        "                 #original 17, 5\n",
        "                 intermediate_dim=10, latent_dim=3, summary=False):\n",
        "        \n",
        "        self._build_model(input_shape,\n",
        "                         intermediate_dim, \n",
        "                          latent_dim, summary)\n",
        "    \n",
        "    def _build_model(self, input_shape, intermediate_dim, latent_dim,\n",
        "                    summary=False):\n",
        "        inputs = Input(shape=input_shape, name='encoder_input')\n",
        "        x = inputs\n",
        "        x = Dense(intermediate_dim, activation='relu')(x)\n",
        "        x = Dense(intermediate_dim//2, activation='relu')(x)\n",
        "        \n",
        "        z_mean = Dense(latent_dim, name='z_mean')(x)\n",
        "        z_log_var = Dense(latent_dim, name='z_log_var')(x)\n",
        "\n",
        "        z = Lambda(self.sampling, output_shape=(latent_dim,), \n",
        "                   name='z')([z_mean, z_log_var])\n",
        "\n",
        "        self.encoder = Model(inputs, [z_mean, z_log_var, z], \n",
        "                        name='encoder')\n",
        "        \n",
        "        latent_inputs = Input(shape=(latent_dim,), \n",
        "                              name='z_sampling')\n",
        "        x = latent_inputs\n",
        "        x = Dense(intermediate_dim//2, activation='relu')(x)\n",
        "        x = Dense(intermediate_dim, activation='relu')(x)\n",
        "        outputs = Dense(original_dim, activation='sigmoid')(x)\n",
        "\n",
        "        self.decoder = Model(latent_inputs, outputs, name='decoder')\n",
        "        outputs = self.decoder(self.encoder(inputs)[2])\n",
        "        self.vae = Model(inputs, outputs, name='vae_mlp')\n",
        "        \n",
        "        reconstruction_loss = binary_crossentropy(inputs, outputs)\n",
        "        reconstruction_loss *= original_dim\n",
        "        kl_loss = 1 + z_log_var - K.square(z_mean) - K.exp(z_log_var)\n",
        "        kl_loss = K.sum(kl_loss, axis=-1)\n",
        "        kl_loss *= -0.5\n",
        "        \n",
        "        vae_loss = K.mean(reconstruction_loss + kl_loss)\t\n",
        "        \n",
        "        self.vae.add_loss(vae_loss)\n",
        "        self.vae.compile(optimizer='adam')\n",
        "        if summary: \n",
        "            print(self.vae.summary())\n",
        "        \n",
        "    def sampling(self, args):\n",
        "        z_mean, z_log_var = args\n",
        "        batch = K.shape(z_mean)[0]\n",
        "        dim = K.int_shape(z_mean)[1]\n",
        "        epsilon = K.random_normal(shape=(batch, dim))\n",
        "        return z_mean + K.exp(0.5 * z_log_var) * epsilon\n",
        "        \n",
        "    def fit(self, x_train, x_test, epochs=100, batch_size=100,\n",
        "           verbose=1):\n",
        "        self.vae.fit(x_train, \n",
        "            shuffle=True,\n",
        "            epochs=epochs,\n",
        "            batch_size=batch_size,\n",
        "            verbose=verbose,\n",
        "            validation_data=(x_test, None))\n",
        "    \n",
        "    def encoder_predict(self, x_test, batch_size=100):\n",
        "        return self.encoder.predict(x_test,\n",
        "                                   batch_size=batch_size)\n",
        "    \n",
        "    def generate(self, latent_val, batch_size=100):\n",
        "        return self.decoder.predict(latent_val)\n",
        "    \n",
        "    def predict(self, x_test, batch_size=1):\n",
        "        prediction = self.vae.predict(x_test)\n",
        "        return prediction\n"
      ],
      "execution_count": null,
      "outputs": []
    },
    {
      "cell_type": "code",
      "metadata": {
        "id": "brZdWagK_bX1"
      },
      "source": [
        "# class DropoutVAE:\n",
        "#     def __init__(self, input_shape=(original_dim,), \n",
        "#                  intermediate_dim=14, latent_dim=5, dropout=0.05, \n",
        "#                  summary=False):\n",
        "        \n",
        "#         self._build_model(input_shape,\n",
        "#                          intermediate_dim, \n",
        "#                           latent_dim, summary,\n",
        "#                           dropout)\n",
        "    \n",
        "#     def _build_model(self, input_shape, intermediate_dim, latent_dim,\n",
        "#                     summary=False, dropout=0.05):\n",
        "#         inputs = Input(shape=input_shape, name='encoder_input')\n",
        "#         x = inputs\n",
        "#         x = Dense(intermediate_dim, activation='relu')(x)\n",
        "#         x = Dense(intermediate_dim//2, activation='relu')(x)\n",
        "        \n",
        "#         z_mean = Dense(latent_dim, name='z_mean')(x)\n",
        "#         z_log_var = Dense(latent_dim, name='z_log_var')(x)\n",
        "        \n",
        "#         # We do not need this one\n",
        "# #         z = Lambda(self.sampling, output_shape=(latent_dim,), \n",
        "# #                    name='z')([z_mean, z_log_var])\n",
        "        \n",
        "#         # We remove the z layer ( z layer is used in VAE but not here)\n",
        "#         self.encoder = Model(inputs, [z_mean, z_log_var], \n",
        "#                         name='encoder')\n",
        "        \n",
        "#         latent_inputs = Input(shape=(latent_dim,), \n",
        "#                               name='z_sampling')\n",
        "#         x = latent_inputs\n",
        "#         x = Dense(intermediate_dim//2, activation='relu',\n",
        "#                  kernel_regularizer=l2(1e-4),\n",
        "#                  bias_regularizer=l2(1e-4))(x)\n",
        "#         x = Dropout(dropout)(x)\n",
        "#         x = Dense(intermediate_dim, activation='relu',\n",
        "#                  kernel_regularizer=l2(1e-4),\n",
        "#                  bias_regularizer=l2(1e-4))(x)\n",
        "#         x = Dropout(dropout)(x)\n",
        "#         outputs = Dense(original_dim, activation='sigmoid',\n",
        "#                        kernel_regularizer=l2(1e-4),\n",
        "#                        bias_regularizer=l2(1e-4))(x)\n",
        "\n",
        "#         self.decoder = Model(latent_inputs, \n",
        "#                              outputs, \n",
        "#                              name='decoder')\n",
        "        \n",
        "#         # Here we take the mean (not the z-layer) \n",
        "#         outputs = self.decoder(self.encoder(inputs)[0])\n",
        "#         self.vae = Model(inputs, outputs, \n",
        "#                          name='vae_mlp')\n",
        "        \n",
        "#         reconstruction_loss = binary_crossentropy(inputs, outputs)\n",
        "#         reconstruction_loss *= original_dim \n",
        "#         kl_loss = 1 + z_log_var - K.square(z_mean) - K.exp(z_log_var)\n",
        "#         kl_loss = K.sum(kl_loss, axis=-1)\n",
        "#         kl_loss *= -0.5\n",
        "        \n",
        "#         vae_loss = K.mean(reconstruction_loss + kl_loss)\t\n",
        "        \n",
        "#         self.vae.add_loss(vae_loss)\n",
        "#         self.vae.compile(optimizer='adam')\n",
        "#         if summary: \n",
        "#             print(self.vae.summary())\n",
        "        \n",
        "#     def fit(self, x_train, x_test, epochs=100, batch_size=100,\n",
        "#            verbose=1):\n",
        "#         self.vae.fit(x_train, \n",
        "#             shuffle=True,\n",
        "#             epochs=epochs,\n",
        "#             batch_size=batch_size,\n",
        "#             verbose=verbose,\n",
        "#             validation_data=(x_test, None))\n",
        "    \n",
        "#     def encoder_predict(self, x_test, batch_size=100):\n",
        "#         return self.encoder.predict(x_test,\n",
        "#                                    batch_size=batch_size)\n",
        "    \n",
        "#     def generate(self, latent_val, batch_size=100):\n",
        "#         return self.decoder.predict(latent_val)\n",
        "    \n",
        "#     def predict(self, x_test, batch_size=1, nums=1000):\n",
        "#         Yt_hat = []\n",
        "#         for _ in range(nums):\n",
        "#             Yt_hat.extend(self.vae.predict(x_test))\n",
        "                          \n",
        "#         return np.asarray(Yt_hat)\n",
        "                          \n",
        "#     def mean_predict(self, x_test, batch_size=1, nums=1000):\n",
        "#         predict_stochastic = K.function([self.decoder.layers[0].input,\n",
        "#                                 K.learning_phase()],\n",
        "#                                 [self.decoder.get_output_at(0)])\n",
        "#         latents = self.encoder.predict(x_test)[0]\n",
        "#         Yt_hat = []\n",
        "#         for _ in range(nums):\n",
        "#             Yt_hat.append(predict_stochastic([latents, 1])) \n",
        "#         return np.asarray(Yt_hat)"
      ],
      "execution_count": null,
      "outputs": []
    },
    {
      "cell_type": "markdown",
      "metadata": {
        "id": "d9FN81w_Hyul"
      },
      "source": [
        "Split part of the data and use it as the final test set."
      ]
    },
    {
      "cell_type": "code",
      "metadata": {
        "id": "NVreKlIqHx5X"
      },
      "source": [
        "trauma_data, final_test_set = train_test_split(original_df, test_size=0.2, random_state=0, shuffle=True)"
      ],
      "execution_count": null,
      "outputs": []
    },
    {
      "cell_type": "code",
      "metadata": {
        "colab": {
          "base_uri": "https://localhost:8080/"
        },
        "id": "-8oy748mYy4L",
        "outputId": "d548e009-44bd-427a-ae99-09af071b3d72"
      },
      "source": [
        "final_test_set.isna().sum()"
      ],
      "execution_count": null,
      "outputs": [
        {
          "output_type": "execute_result",
          "data": {
            "text/plain": [
              "hr0_temp          0\n",
              "hr0_hr            0\n",
              "hr0_resprate      0\n",
              "hr0_sbp           0\n",
              "hr0_ph            0\n",
              "hr0_bun           0\n",
              "hr0_creatinine    0\n",
              "hr0_wbc           0\n",
              "hr0_hgb           0\n",
              "hr0_hct           0\n",
              "hr0_factorii      0\n",
              "hr0_factorv       0\n",
              "hr0_factorx       0\n",
              "hr0_tfpi          0\n",
              "hr0_ddimer        0\n",
              "hr0_pt            0\n",
              "hr0_ptt           0\n",
              "hr0_inr           0\n",
              "hr0_plts          0\n",
              "Mortality         0\n",
              "dtype: int64"
            ]
          },
          "metadata": {
            "tags": []
          },
          "execution_count": 12
        }
      ]
    },
    {
      "cell_type": "code",
      "metadata": {
        "id": "XOKkWtG7FsYZ"
      },
      "source": [
        "# results_0[3].describe()\n",
        "trauma_data.describe()"
      ],
      "execution_count": null,
      "outputs": []
    },
    {
      "cell_type": "markdown",
      "metadata": {
        "id": "oGRUpxrcGeCC"
      },
      "source": [
        "MOF = 0 and mortality 0 (majority)"
      ]
    },
    {
      "cell_type": "markdown",
      "metadata": {
        "id": "TltvEBaZRIzm"
      },
      "source": [
        "Train VAE"
      ]
    },
    {
      "cell_type": "code",
      "metadata": {
        "colab": {
          "base_uri": "https://localhost:8080/"
        },
        "id": "WZjKaF0CVajI",
        "outputId": "2d8abcbd-9aba-4239-bdcc-f51624ca2851"
      },
      "source": [
        "trauma_data.Mortality.value_counts()"
      ],
      "execution_count": null,
      "outputs": [
        {
          "output_type": "execute_result",
          "data": {
            "text/plain": [
              "0    971\n",
              "1    216\n",
              "Name: Mortality, dtype: int64"
            ]
          },
          "metadata": {
            "tags": []
          },
          "execution_count": 5
        }
      ]
    },
    {
      "cell_type": "code",
      "metadata": {
        "id": "RBmJXtRFP0D-"
      },
      "source": [
        "#separate dataframe to two classes\n",
        "scaler = MinMaxScaler()\n",
        "def train_test_process(df):\n",
        "  vae_train = scaler.fit_transform(df.values)\n",
        "  x_train, x_test = train_test_split(vae_train, test_size=0.4,\n",
        "                                    random_state=0,\n",
        "                                    shuffle=True)\n",
        "  # original_dim = x_train.shape[1]\n",
        "  x_train = np.reshape(x_train, [-1, original_dim])\n",
        "  x_test = np.reshape(x_test, [-1, original_dim])\n",
        "  x_train = x_train.astype('float32')\n",
        "  x_test = x_test.astype('float32')\n",
        "  return (x_train, x_test)\n",
        "#class 0 train test set (total 971)\n",
        "df_class_0 = trauma_data[trauma_data['Mortality'] == 0].drop('Mortality', axis=1)\n",
        "x_train_0, x_test_0 = train_test_process(df_class_0)\n",
        "#class 1 train test set (total 216)\n",
        "df_class_1 = trauma_data[trauma_data['Mortality'] == 1].drop('Mortality', axis=1)\n",
        "x_train_1, x_test_1 = train_test_process(df_class_1)\n",
        "#respectively fit two dataframes with two VAE models\n",
        "# latent_dim = 3\n",
        "# intermediate_dim = 14"
      ],
      "execution_count": null,
      "outputs": []
    },
    {
      "cell_type": "code",
      "metadata": {
        "id": "eh6j5rkiXKhP"
      },
      "source": [
        "# XX = trauma_data[trauma_data['Mortality'] == 0].drop('Mortality', axis=1)\n",
        "# print(XX.describe())\n",
        "# YY = scaler.fit_transform(XX.values)\n",
        "# YY = pd.DataFrame(YY) \n",
        "# YY.columns = trauma_data.drop('Mortality', axis=1).columns\n",
        "# print(YY.describe())\n",
        "# YY = scaler.inverse_transform(YY)\n",
        "# YY = pd.DataFrame(YY) \n",
        "# YY.columns = trauma_data.drop('Mortality', axis=1).columns\n",
        "# print(YY.describe())\n"
      ],
      "execution_count": null,
      "outputs": []
    },
    {
      "cell_type": "code",
      "metadata": {
        "id": "rPKkGbKn_joL"
      },
      "source": [
        "# \"\"\"\n",
        "# play with drop outs\n",
        "# \"\"\"\n",
        "\n",
        "# df_class_0 = trauma_data[trauma_data['Mortality'] == 0].drop('Mortality', axis=1)\n",
        "# x_train_0, x_test_0 = train_test_process(df_class_0)\n",
        "# df_class_1 = trauma_data[trauma_data['Mortality'] == 1].drop('Mortality', axis=1)\n",
        "# x_train_1, x_test_1 = train_test_process(df_class_1)\n",
        "# # latent_dim = 5\n",
        "# # intermediate_dim = 14\n",
        "# vae_drop_0 = DropoutVAE(dropout=0.2, summary=True)\n",
        "# vae_drop_1 = DropoutVAE(dropout=0.2, summary=True)"
      ],
      "execution_count": null,
      "outputs": []
    },
    {
      "cell_type": "code",
      "metadata": {
        "id": "aDE7Hv3QBQz6"
      },
      "source": [
        "# vae_drop_0.fit(x_train_0, x_test_0, epochs = 150)\n",
        "# vae_drop_1.fit(x_train_1, x_test_1, epochs = 150)\n"
      ],
      "execution_count": null,
      "outputs": []
    },
    {
      "cell_type": "code",
      "metadata": {
        "id": "rZ7d0Xm5BnLS"
      },
      "source": [
        "# x_test_0 = np.reshape(x_test_0, (-1, original_dim))\n",
        "# print(x_test_0.shape)\n",
        "# print(x_test_0[0].reshape(-1, original_dim).shape)\n",
        "\n",
        "# total_nums = 2\n",
        "# results = []\n",
        "\n",
        "# x_test_encoded = vae_drop_0.mean_predict(x_test_0, nums=total_nums)\n",
        "# print(x_test_encoded.shape)\n",
        "\n",
        "# results = x_test_encoded\n",
        "# results = results.reshape(total_nums*results.shape[2], original_dim)\n",
        "# results = scaler.inverse_transform(results)\n",
        "# print(results.shape)"
      ],
      "execution_count": null,
      "outputs": []
    },
    {
      "cell_type": "markdown",
      "metadata": {
        "id": "jvEoB4PqrvEX"
      },
      "source": [
        "**Use PCA to visualize VAE process of training**"
      ]
    },
    {
      "cell_type": "code",
      "metadata": {
        "id": "ChWSkHrHP0KE"
      },
      "source": [
        "# Use this to generate graphs\n",
        "\n",
        "# Group 0 generation\n",
        "# epochs_0 = [1, 10, 20, 30]\n",
        "epochs_0 = [10, 50, 100, 150]\n",
        "total_nums = 1\n",
        "results_0 = [[],[], [], []]\n",
        "for j, epoch in enumerate(epochs_0):\n",
        "  vae_0 = VAE()\n",
        "  vae_0.fit(x_train_0, x_test_0, epochs=epoch)\n",
        "  x_test_0_tmp = np.reshape(x_test_0, (-1, original_dim))\n",
        "  x_test_encoded_0 = vae_0.encoder.predict(x_test_0_tmp)\n",
        "  x_test_encoded_0 = np.asarray(x_test_encoded_0)\n",
        "  for i in range(x_test_encoded_0.shape[1]):\n",
        "      latent_gen = []\n",
        "      for _ in range(total_nums):\n",
        "          epsilon = np.random.normal(0., 1., x_test_encoded_0.shape[2])\n",
        "          latent_gen.extend([x_test_encoded_0[0, i, :] + np.exp(x_test_encoded_0[1, i, :]*0.5)*epsilon])\n",
        "      latent_gen = np.asarray(latent_gen)\n",
        "      results_0[j].append(vae_0.generate(latent_gen))\n",
        "      \n",
        "  results_0[j] = np.asarray(results_0[j])\n",
        "  results_0[j] = np.reshape(results_0[j], (-1, original_dim))\n",
        "  results_0[j] = scaler.inverse_transform(results_0[j])\n",
        "  results_0[j] = pd.DataFrame(results_0[j]) \n",
        "  results_0[j].columns = trauma_data.drop('Mortality', axis = 1).columns"
      ],
      "execution_count": null,
      "outputs": []
    },
    {
      "cell_type": "code",
      "metadata": {
        "id": "nIp2gxorSicn"
      },
      "source": [
        "# Use this to generate graphs\n",
        "\n",
        "# Group 1 generation\n",
        "# epochs_1 = [10, 20, 30, 50]\n",
        "epochs_1 = [10, 50, 100, 150]\n",
        "total_nums = 1\n",
        "results_1 = [[],[], [], []]\n",
        "for j, epoch in enumerate(epochs_1):\n",
        "  vae_1 = VAE()\n",
        "  vae_1.fit(x_train_1, x_test_1, epochs=epoch)\n",
        "  x_test_1_tmp = np.reshape(x_test_1, (-1, original_dim))\n",
        "  x_test_encoded_1 = vae_1.encoder.predict(x_test_1_tmp)\n",
        "  x_test_encoded_1 = np.asarray(x_test_encoded_1)\n",
        "  for i in range(x_test_encoded_1.shape[1]):\n",
        "      latent_gen = []\n",
        "      for _ in range(total_nums):\n",
        "          epsilon = np.random.normal(0., 1., x_test_encoded_1.shape[2])\n",
        "          latent_gen.extend([x_test_encoded_1[0, i, :] + np.exp(x_test_encoded_1[1, i, :]*0.5)*epsilon])\n",
        "      latent_gen = np.asarray(latent_gen)\n",
        "      results_1[j].append(vae_1.generate(latent_gen))\n",
        "      \n",
        "  results_1[j] = np.asarray(results_1[j])\n",
        "  results_1[j] = np.reshape(results_1[j], (-1, original_dim))\n",
        "  results_1[j] = scaler.inverse_transform(results_1[j])\n",
        "  results_1[j] = pd.DataFrame(results_1[j]) \n",
        "  results_1[j].columns = trauma_data.drop('Mortality', axis = 1).columns"
      ],
      "execution_count": null,
      "outputs": []
    },
    {
      "cell_type": "code",
      "metadata": {
        "id": "IZnLlFsPrtFw"
      },
      "source": [
        "from sklearn.decomposition import PCA\n",
        "pca = PCA(n_components=2, random_state=0)\n",
        "X = pca.fit_transform(trauma_data.drop('Mortality', axis=1))\n",
        "y = trauma_data['Mortality']\n",
        "# X = pca.fit_transform(x_test_0)\n",
        "def plot_2d_space(X, y, label, axis=plt):\n",
        "  colors = ['#1F77B4', '#FF7F0E']\n",
        "  markers = ['o', '.']\n",
        "  for l, c, m in zip(np.unique(y), colors, markers):\n",
        "    axis.scatter(X[y==l, 0], X[y==l, 1], c=c, label=l, marker=m)\n",
        "  if axis == plt:\n",
        "    axis.title(label)\n",
        "    axis.legend(loc='upper right')\n",
        "    axis.xlabel('1st principle')\n",
        "    axis.ylabel('2nd principle')\n",
        "  else:\n",
        "    axis.title.set_text(label)\n",
        "    axis.legend(loc='upper right')\n",
        "    axis.set(xlabel='1st principle', ylabel='2nd principle')\n",
        "    # axis.set_xlabel('1st principle')\n",
        "    # axis.set_ylabel('2nd principle')\n",
        "\n",
        "f = plt.figure(figsize=(10,10))\n",
        "plot_2d_space(X, y, 'Visualize all real patient')\n",
        "\n",
        "def produce_x_y(real_df, virtual_df):\n",
        "  #transform real_df to original form\n",
        "  real_df = scaler.inverse_transform(real_df)\n",
        "  real_df = pd.DataFrame(real_df) \n",
        "  real_df.columns = trauma_data.drop('Mortality', axis=1).columns\n",
        "  #concat new_df and visualize\n",
        "  real_df['if virtual'] = 'real'\n",
        "  virtual_df['if virtual'] = 'virtual'\n",
        "  new_df = pd.concat([real_df, virtual_df])\n",
        "  pca = PCA(n_components=2, random_state=0)\n",
        "  X = pca.fit_transform(new_df.loc[:, new_df.columns != 'if virtual'])\n",
        "  y = new_df['if virtual']\n",
        "  return (X, y)\n",
        "\n",
        "fig, ax = plt.subplots(2,4, figsize=(20,20), sharex='row', sharey='row')\n",
        "fig.suptitle('Visualize real and virtual patients')\n",
        "for i, epoch in enumerate(epochs_0):\n",
        "  X, y = produce_x_y(x_test_0, results_0[i])\n",
        "  axis = ax[0][i]\n",
        "  text = f\"Class 0 - ({epoch} epoch)\"\n",
        "  plot_2d_space(X, y, text, axis)\n",
        "\n",
        "#visualize graphs for class 1\n",
        "for i, epoch in enumerate(epochs_1):\n",
        "  X, y = produce_x_y(x_test_1, results_1[i])\n",
        "  axis = ax[1][i]\n",
        "  text = f\"Class 1 - ({epoch} epoch)\"\n",
        "  plot_2d_space(X, y, text, axis)\n",
        "\n",
        "# fig.savefig('gdrive/MyDrive/VAE_PCA_vis.png', transparent=True)"
      ],
      "execution_count": null,
      "outputs": []
    },
    {
      "cell_type": "code",
      "metadata": {
        "id": "0OfioVLRf7_L"
      },
      "source": [
        "print(trauma_data.describe())\n",
        "print(results_0[3].describe())\n",
        "print(results_1[3].describe())"
      ],
      "execution_count": null,
      "outputs": []
    },
    {
      "cell_type": "markdown",
      "metadata": {
        "id": "Ph1DIy5LKOf5"
      },
      "source": [
        "**Generate Virtual Patient**"
      ]
    },
    {
      "cell_type": "code",
      "metadata": {
        "colab": {
          "base_uri": "https://localhost:8080/"
        },
        "id": "p2oKyQOhsMdM",
        "outputId": "0ebf9609-0f5b-4e97-865a-adbf1e937fda"
      },
      "source": [
        "vae_0 = VAE()\n",
        "vae_1 = VAE()\n",
        "\n",
        "vae_0.fit(x_train_0, x_test_0, epochs=150)\n",
        "vae_1.fit(x_train_1, x_test_1, epochs=150)\n",
        "\n",
        "def vae_generate(vae, x_test, target, total_nums = 300):\n",
        "  result = []\n",
        "  x_test_tmp = np.reshape(x_test, (-1, original_dim))\n",
        "  x_test_encoded = vae.encoder.predict(x_test_tmp)\n",
        "  x_test_encoded = np.asarray(x_test_encoded)\n",
        "  for i in range(x_test_encoded.shape[1]):\n",
        "      latent_gen = []\n",
        "      for _ in range(total_nums):\n",
        "          epsilon = np.random.normal(0., 1., x_test_encoded.shape[2])\n",
        "          latent_gen.extend([x_test_encoded[0, i, :] + np.exp(x_test_encoded[1, i, :]*0.5)*epsilon])\n",
        "      latent_gen = np.asarray(latent_gen)\n",
        "      result.append(vae.generate(latent_gen))\n",
        "        \n",
        "  result = np.asarray(result)\n",
        "  result = np.reshape(result, (-1, original_dim))\n",
        "  result = scaler.inverse_transform(result)\n",
        "  result = pd.DataFrame(result) \n",
        "  result.columns = trauma_data.drop('Mortality', axis = 1).columns\n",
        "  result['Mortality'] = target\n",
        "  return result\n",
        "\n",
        "n_0 = trauma_data[trauma_data.Mortality == 0].shape[0]\n",
        "n_1 = trauma_data[trauma_data.Mortality == 1].shape[0]\n",
        "total_nums = ((100000 - n_0) // x_test_0.shape[0]) + 1\n",
        "result_0 = vae_generate(vae_0, x_test_0, 0, total_nums = total_nums)\n",
        "result_1 = vae_generate(vae_1, x_test_1, 1, total_nums = total_nums)\n",
        "combined_df_inbalanced = pd.concat([trauma_data, result_0, result_1])"
      ],
      "execution_count": null,
      "outputs": [
        {
          "output_type": "stream",
          "text": [
            "Epoch 1/150\n",
            "6/6 [==============================] - 2s 103ms/step - loss: 13.4167 - val_loss: 13.3689\n",
            "Epoch 2/150\n",
            "6/6 [==============================] - 0s 16ms/step - loss: 13.3554 - val_loss: 13.3222\n",
            "Epoch 3/150\n",
            "6/6 [==============================] - 0s 15ms/step - loss: 13.2835 - val_loss: 13.2353\n",
            "Epoch 4/150\n",
            "6/6 [==============================] - 0s 15ms/step - loss: 13.2067 - val_loss: 13.1651\n",
            "Epoch 5/150\n",
            "6/6 [==============================] - 0s 17ms/step - loss: 13.1464 - val_loss: 13.1053\n",
            "Epoch 6/150\n",
            "6/6 [==============================] - 0s 14ms/step - loss: 13.0896 - val_loss: 13.0379\n",
            "Epoch 7/150\n",
            "6/6 [==============================] - 0s 16ms/step - loss: 13.0242 - val_loss: 12.9838\n",
            "Epoch 8/150\n",
            "6/6 [==============================] - 0s 14ms/step - loss: 12.9848 - val_loss: 12.9372\n",
            "Epoch 9/150\n",
            "6/6 [==============================] - 0s 15ms/step - loss: 12.9335 - val_loss: 12.8732\n",
            "Epoch 10/150\n",
            "6/6 [==============================] - 0s 15ms/step - loss: 12.8743 - val_loss: 12.8244\n",
            "Epoch 11/150\n",
            "6/6 [==============================] - 0s 14ms/step - loss: 12.8109 - val_loss: 12.7602\n",
            "Epoch 12/150\n",
            "6/6 [==============================] - 0s 14ms/step - loss: 12.7518 - val_loss: 12.6982\n",
            "Epoch 13/150\n",
            "6/6 [==============================] - 0s 14ms/step - loss: 12.6701 - val_loss: 12.6353\n",
            "Epoch 14/150\n",
            "6/6 [==============================] - 0s 16ms/step - loss: 12.6064 - val_loss: 12.5495\n",
            "Epoch 15/150\n",
            "6/6 [==============================] - 0s 14ms/step - loss: 12.5330 - val_loss: 12.4674\n",
            "Epoch 16/150\n",
            "6/6 [==============================] - 0s 16ms/step - loss: 12.4339 - val_loss: 12.3665\n",
            "Epoch 17/150\n",
            "6/6 [==============================] - 0s 15ms/step - loss: 12.3308 - val_loss: 12.2761\n",
            "Epoch 18/150\n",
            "6/6 [==============================] - 0s 16ms/step - loss: 12.2396 - val_loss: 12.1662\n",
            "Epoch 19/150\n",
            "6/6 [==============================] - 0s 15ms/step - loss: 12.1244 - val_loss: 12.0351\n",
            "Epoch 20/150\n",
            "6/6 [==============================] - 0s 16ms/step - loss: 12.0254 - val_loss: 11.9223\n",
            "Epoch 21/150\n",
            "6/6 [==============================] - 0s 17ms/step - loss: 11.9025 - val_loss: 11.7902\n",
            "Epoch 22/150\n",
            "6/6 [==============================] - 0s 15ms/step - loss: 11.7540 - val_loss: 11.6561\n",
            "Epoch 23/150\n",
            "6/6 [==============================] - 0s 15ms/step - loss: 11.6357 - val_loss: 11.5024\n",
            "Epoch 24/150\n",
            "6/6 [==============================] - 0s 15ms/step - loss: 11.4622 - val_loss: 11.3782\n",
            "Epoch 25/150\n",
            "6/6 [==============================] - 0s 16ms/step - loss: 11.3469 - val_loss: 11.2339\n",
            "Epoch 26/150\n",
            "6/6 [==============================] - 0s 15ms/step - loss: 11.2250 - val_loss: 11.1132\n",
            "Epoch 27/150\n",
            "6/6 [==============================] - 0s 15ms/step - loss: 11.0948 - val_loss: 10.9618\n",
            "Epoch 28/150\n",
            "6/6 [==============================] - 0s 15ms/step - loss: 10.9504 - val_loss: 10.8178\n",
            "Epoch 29/150\n",
            "6/6 [==============================] - 0s 17ms/step - loss: 10.8472 - val_loss: 10.7049\n",
            "Epoch 30/150\n",
            "6/6 [==============================] - 0s 16ms/step - loss: 10.6971 - val_loss: 10.5974\n",
            "Epoch 31/150\n",
            "6/6 [==============================] - 0s 17ms/step - loss: 10.6276 - val_loss: 10.4659\n",
            "Epoch 32/150\n",
            "6/6 [==============================] - 0s 14ms/step - loss: 10.4982 - val_loss: 10.3746\n",
            "Epoch 33/150\n",
            "6/6 [==============================] - 0s 14ms/step - loss: 10.3641 - val_loss: 10.2529\n",
            "Epoch 34/150\n",
            "6/6 [==============================] - 0s 15ms/step - loss: 10.2724 - val_loss: 10.1643\n",
            "Epoch 35/150\n",
            "6/6 [==============================] - 0s 16ms/step - loss: 10.1763 - val_loss: 10.0638\n",
            "Epoch 36/150\n",
            "6/6 [==============================] - 0s 15ms/step - loss: 10.0932 - val_loss: 10.0062\n",
            "Epoch 37/150\n",
            "6/6 [==============================] - 0s 14ms/step - loss: 10.0330 - val_loss: 9.9102\n",
            "Epoch 38/150\n",
            "6/6 [==============================] - 0s 15ms/step - loss: 9.9578 - val_loss: 9.8356\n",
            "Epoch 39/150\n",
            "6/6 [==============================] - 0s 15ms/step - loss: 9.8958 - val_loss: 9.7899\n",
            "Epoch 40/150\n",
            "6/6 [==============================] - 0s 15ms/step - loss: 9.8470 - val_loss: 9.7279\n",
            "Epoch 41/150\n",
            "6/6 [==============================] - 0s 15ms/step - loss: 9.8604 - val_loss: 9.6789\n",
            "Epoch 42/150\n",
            "6/6 [==============================] - 0s 17ms/step - loss: 9.7245 - val_loss: 9.6218\n",
            "Epoch 43/150\n",
            "6/6 [==============================] - 0s 17ms/step - loss: 9.7195 - val_loss: 9.6172\n",
            "Epoch 44/150\n",
            "6/6 [==============================] - 0s 15ms/step - loss: 9.6863 - val_loss: 9.5745\n",
            "Epoch 45/150\n",
            "6/6 [==============================] - 0s 15ms/step - loss: 9.6513 - val_loss: 9.5382\n",
            "Epoch 46/150\n",
            "6/6 [==============================] - 0s 14ms/step - loss: 9.6629 - val_loss: 9.5085\n",
            "Epoch 47/150\n",
            "6/6 [==============================] - 0s 15ms/step - loss: 9.5740 - val_loss: 9.4886\n",
            "Epoch 48/150\n",
            "6/6 [==============================] - 0s 15ms/step - loss: 9.5706 - val_loss: 9.4665\n",
            "Epoch 49/150\n",
            "6/6 [==============================] - 0s 16ms/step - loss: 9.5378 - val_loss: 9.4659\n",
            "Epoch 50/150\n",
            "6/6 [==============================] - 0s 16ms/step - loss: 9.5319 - val_loss: 9.4393\n",
            "Epoch 51/150\n",
            "6/6 [==============================] - 0s 16ms/step - loss: 9.5301 - val_loss: 9.4258\n",
            "Epoch 52/150\n",
            "6/6 [==============================] - 0s 15ms/step - loss: 9.5298 - val_loss: 9.4010\n",
            "Epoch 53/150\n",
            "6/6 [==============================] - 0s 15ms/step - loss: 9.5076 - val_loss: 9.4004\n",
            "Epoch 54/150\n",
            "6/6 [==============================] - 0s 17ms/step - loss: 9.4904 - val_loss: 9.3938\n",
            "Epoch 55/150\n",
            "6/6 [==============================] - 0s 16ms/step - loss: 9.4882 - val_loss: 9.3673\n",
            "Epoch 56/150\n",
            "6/6 [==============================] - 0s 17ms/step - loss: 9.4444 - val_loss: 9.3717\n",
            "Epoch 57/150\n",
            "6/6 [==============================] - 0s 15ms/step - loss: 9.4538 - val_loss: 9.3557\n",
            "Epoch 58/150\n",
            "6/6 [==============================] - 0s 18ms/step - loss: 9.4378 - val_loss: 9.3454\n",
            "Epoch 59/150\n",
            "6/6 [==============================] - 0s 15ms/step - loss: 9.4681 - val_loss: 9.3505\n",
            "Epoch 60/150\n",
            "6/6 [==============================] - 0s 14ms/step - loss: 9.4357 - val_loss: 9.3381\n",
            "Epoch 61/150\n",
            "6/6 [==============================] - 0s 16ms/step - loss: 9.4254 - val_loss: 9.3326\n",
            "Epoch 62/150\n",
            "6/6 [==============================] - 0s 15ms/step - loss: 9.4402 - val_loss: 9.3133\n",
            "Epoch 63/150\n",
            "6/6 [==============================] - 0s 15ms/step - loss: 9.4486 - val_loss: 9.3150\n",
            "Epoch 64/150\n",
            "6/6 [==============================] - 0s 17ms/step - loss: 9.4078 - val_loss: 9.3261\n",
            "Epoch 65/150\n",
            "6/6 [==============================] - 0s 16ms/step - loss: 9.4436 - val_loss: 9.3128\n",
            "Epoch 66/150\n",
            "6/6 [==============================] - 0s 14ms/step - loss: 9.4351 - val_loss: 9.3129\n",
            "Epoch 67/150\n",
            "6/6 [==============================] - 0s 15ms/step - loss: 9.4375 - val_loss: 9.3067\n",
            "Epoch 68/150\n",
            "6/6 [==============================] - 0s 15ms/step - loss: 9.4186 - val_loss: 9.3200\n",
            "Epoch 69/150\n",
            "6/6 [==============================] - 0s 16ms/step - loss: 9.4070 - val_loss: 9.2863\n",
            "Epoch 70/150\n",
            "6/6 [==============================] - 0s 15ms/step - loss: 9.4110 - val_loss: 9.2950\n",
            "Epoch 71/150\n",
            "6/6 [==============================] - 0s 14ms/step - loss: 9.3808 - val_loss: 9.2887\n",
            "Epoch 72/150\n",
            "6/6 [==============================] - 0s 16ms/step - loss: 9.3809 - val_loss: 9.2902\n",
            "Epoch 73/150\n",
            "6/6 [==============================] - 0s 15ms/step - loss: 9.3952 - val_loss: 9.2858\n",
            "Epoch 74/150\n",
            "6/6 [==============================] - 0s 15ms/step - loss: 9.3812 - val_loss: 9.2692\n",
            "Epoch 75/150\n",
            "6/6 [==============================] - 0s 14ms/step - loss: 9.4356 - val_loss: 9.2867\n",
            "Epoch 76/150\n",
            "6/6 [==============================] - 0s 15ms/step - loss: 9.3643 - val_loss: 9.2747\n",
            "Epoch 77/150\n",
            "6/6 [==============================] - 0s 17ms/step - loss: 9.3907 - val_loss: 9.2786\n",
            "Epoch 78/150\n",
            "6/6 [==============================] - 0s 17ms/step - loss: 9.4036 - val_loss: 9.2695\n",
            "Epoch 79/150\n",
            "6/6 [==============================] - 0s 15ms/step - loss: 9.3675 - val_loss: 9.2571\n",
            "Epoch 80/150\n",
            "6/6 [==============================] - 0s 14ms/step - loss: 9.4290 - val_loss: 9.2722\n",
            "Epoch 81/150\n",
            "6/6 [==============================] - 0s 15ms/step - loss: 9.4041 - val_loss: 9.2638\n",
            "Epoch 82/150\n",
            "6/6 [==============================] - 0s 14ms/step - loss: 9.3973 - val_loss: 9.2710\n",
            "Epoch 83/150\n",
            "6/6 [==============================] - 0s 17ms/step - loss: 9.3783 - val_loss: 9.2660\n",
            "Epoch 84/150\n",
            "6/6 [==============================] - 0s 14ms/step - loss: 9.3996 - val_loss: 9.2630\n",
            "Epoch 85/150\n",
            "6/6 [==============================] - 0s 14ms/step - loss: 9.3653 - val_loss: 9.2621\n",
            "Epoch 86/150\n",
            "6/6 [==============================] - 0s 14ms/step - loss: 9.3531 - val_loss: 9.2645\n",
            "Epoch 87/150\n",
            "6/6 [==============================] - 0s 15ms/step - loss: 9.3771 - val_loss: 9.2502\n",
            "Epoch 88/150\n",
            "6/6 [==============================] - 0s 16ms/step - loss: 9.3805 - val_loss: 9.2608\n",
            "Epoch 89/150\n",
            "6/6 [==============================] - 0s 14ms/step - loss: 9.3788 - val_loss: 9.2584\n",
            "Epoch 90/150\n",
            "6/6 [==============================] - 0s 16ms/step - loss: 9.3507 - val_loss: 9.2515\n",
            "Epoch 91/150\n",
            "6/6 [==============================] - 0s 15ms/step - loss: 9.3123 - val_loss: 9.2559\n",
            "Epoch 92/150\n",
            "6/6 [==============================] - 0s 16ms/step - loss: 9.3731 - val_loss: 9.2560\n",
            "Epoch 93/150\n",
            "6/6 [==============================] - 0s 15ms/step - loss: 9.3408 - val_loss: 9.2487\n",
            "Epoch 94/150\n",
            "6/6 [==============================] - 0s 14ms/step - loss: 9.3434 - val_loss: 9.2472\n",
            "Epoch 95/150\n",
            "6/6 [==============================] - 0s 14ms/step - loss: 9.3677 - val_loss: 9.2597\n",
            "Epoch 96/150\n",
            "6/6 [==============================] - 0s 15ms/step - loss: 9.3584 - val_loss: 9.2416\n",
            "Epoch 97/150\n",
            "6/6 [==============================] - 0s 15ms/step - loss: 9.3637 - val_loss: 9.2498\n",
            "Epoch 98/150\n",
            "6/6 [==============================] - 0s 16ms/step - loss: 9.3396 - val_loss: 9.2478\n",
            "Epoch 99/150\n",
            "6/6 [==============================] - 0s 15ms/step - loss: 9.3756 - val_loss: 9.2493\n",
            "Epoch 100/150\n",
            "6/6 [==============================] - 0s 17ms/step - loss: 9.3569 - val_loss: 9.2431\n",
            "Epoch 101/150\n",
            "6/6 [==============================] - 0s 15ms/step - loss: 9.3187 - val_loss: 9.2442\n",
            "Epoch 102/150\n",
            "6/6 [==============================] - 0s 17ms/step - loss: 9.3568 - val_loss: 9.2384\n",
            "Epoch 103/150\n",
            "6/6 [==============================] - 0s 16ms/step - loss: 9.3774 - val_loss: 9.2413\n",
            "Epoch 104/150\n",
            "6/6 [==============================] - 0s 16ms/step - loss: 9.3550 - val_loss: 9.2397\n",
            "Epoch 105/150\n",
            "6/6 [==============================] - 0s 15ms/step - loss: 9.3758 - val_loss: 9.2407\n",
            "Epoch 106/150\n",
            "6/6 [==============================] - 0s 14ms/step - loss: 9.3719 - val_loss: 9.2388\n",
            "Epoch 107/150\n",
            "6/6 [==============================] - 0s 15ms/step - loss: 9.3609 - val_loss: 9.2404\n",
            "Epoch 108/150\n",
            "6/6 [==============================] - 0s 14ms/step - loss: 9.3416 - val_loss: 9.2389\n",
            "Epoch 109/150\n",
            "6/6 [==============================] - 0s 15ms/step - loss: 9.3815 - val_loss: 9.2370\n",
            "Epoch 110/150\n",
            "6/6 [==============================] - 0s 14ms/step - loss: 9.3357 - val_loss: 9.2375\n",
            "Epoch 111/150\n",
            "6/6 [==============================] - 0s 15ms/step - loss: 9.3712 - val_loss: 9.2330\n",
            "Epoch 112/150\n",
            "6/6 [==============================] - 0s 15ms/step - loss: 9.3694 - val_loss: 9.2367\n",
            "Epoch 113/150\n",
            "6/6 [==============================] - 0s 15ms/step - loss: 9.3576 - val_loss: 9.2359\n",
            "Epoch 114/150\n",
            "6/6 [==============================] - 0s 17ms/step - loss: 9.3430 - val_loss: 9.2388\n",
            "Epoch 115/150\n",
            "6/6 [==============================] - 0s 15ms/step - loss: 9.3476 - val_loss: 9.2354\n",
            "Epoch 116/150\n",
            "6/6 [==============================] - 0s 15ms/step - loss: 9.3428 - val_loss: 9.2322\n",
            "Epoch 117/150\n",
            "6/6 [==============================] - 0s 15ms/step - loss: 9.3554 - val_loss: 9.2361\n",
            "Epoch 118/150\n",
            "6/6 [==============================] - 0s 17ms/step - loss: 9.4202 - val_loss: 9.2328\n",
            "Epoch 119/150\n",
            "6/6 [==============================] - 0s 15ms/step - loss: 9.3467 - val_loss: 9.2312\n",
            "Epoch 120/150\n",
            "6/6 [==============================] - 0s 16ms/step - loss: 9.3306 - val_loss: 9.2266\n",
            "Epoch 121/150\n",
            "6/6 [==============================] - 0s 15ms/step - loss: 9.3457 - val_loss: 9.2260\n",
            "Epoch 122/150\n",
            "6/6 [==============================] - 0s 15ms/step - loss: 9.3376 - val_loss: 9.2297\n",
            "Epoch 123/150\n",
            "6/6 [==============================] - 0s 15ms/step - loss: 9.3450 - val_loss: 9.2266\n",
            "Epoch 124/150\n",
            "6/6 [==============================] - 0s 16ms/step - loss: 9.3178 - val_loss: 9.2339\n",
            "Epoch 125/150\n",
            "6/6 [==============================] - 0s 16ms/step - loss: 9.3359 - val_loss: 9.2271\n",
            "Epoch 126/150\n",
            "6/6 [==============================] - 0s 16ms/step - loss: 9.3659 - val_loss: 9.2295\n",
            "Epoch 127/150\n",
            "6/6 [==============================] - 0s 15ms/step - loss: 9.3599 - val_loss: 9.2268\n",
            "Epoch 128/150\n",
            "6/6 [==============================] - 0s 15ms/step - loss: 9.3396 - val_loss: 9.2229\n",
            "Epoch 129/150\n",
            "6/6 [==============================] - 0s 14ms/step - loss: 9.3688 - val_loss: 9.2262\n",
            "Epoch 130/150\n",
            "6/6 [==============================] - 0s 14ms/step - loss: 9.3303 - val_loss: 9.2269\n",
            "Epoch 131/150\n",
            "6/6 [==============================] - 0s 18ms/step - loss: 9.3868 - val_loss: 9.2307\n",
            "Epoch 132/150\n",
            "6/6 [==============================] - 0s 15ms/step - loss: 9.3596 - val_loss: 9.2304\n",
            "Epoch 133/150\n",
            "6/6 [==============================] - 0s 14ms/step - loss: 9.3638 - val_loss: 9.2189\n",
            "Epoch 134/150\n",
            "6/6 [==============================] - 0s 14ms/step - loss: 9.3793 - val_loss: 9.2249\n",
            "Epoch 135/150\n",
            "6/6 [==============================] - 0s 15ms/step - loss: 9.3283 - val_loss: 9.2289\n",
            "Epoch 136/150\n",
            "6/6 [==============================] - 0s 14ms/step - loss: 9.3429 - val_loss: 9.2217\n",
            "Epoch 137/150\n",
            "6/6 [==============================] - 0s 16ms/step - loss: 9.3302 - val_loss: 9.2211\n",
            "Epoch 138/150\n",
            "6/6 [==============================] - 0s 17ms/step - loss: 9.3187 - val_loss: 9.2255\n",
            "Epoch 139/150\n",
            "6/6 [==============================] - 0s 16ms/step - loss: 9.3420 - val_loss: 9.2229\n",
            "Epoch 140/150\n",
            "6/6 [==============================] - 0s 14ms/step - loss: 9.3481 - val_loss: 9.2197\n",
            "Epoch 141/150\n",
            "6/6 [==============================] - 0s 16ms/step - loss: 9.3494 - val_loss: 9.2227\n",
            "Epoch 142/150\n",
            "6/6 [==============================] - 0s 16ms/step - loss: 9.3413 - val_loss: 9.2218\n",
            "Epoch 143/150\n",
            "6/6 [==============================] - 0s 15ms/step - loss: 9.3595 - val_loss: 9.2201\n",
            "Epoch 144/150\n",
            "6/6 [==============================] - 0s 14ms/step - loss: 9.3413 - val_loss: 9.2217\n",
            "Epoch 145/150\n",
            "6/6 [==============================] - 0s 15ms/step - loss: 9.3111 - val_loss: 9.2174\n",
            "Epoch 146/150\n",
            "6/6 [==============================] - 0s 15ms/step - loss: 9.3599 - val_loss: 9.2206\n",
            "Epoch 147/150\n",
            "6/6 [==============================] - 0s 14ms/step - loss: 9.3115 - val_loss: 9.2162\n",
            "Epoch 148/150\n",
            "6/6 [==============================] - 0s 16ms/step - loss: 9.3126 - val_loss: 9.2169\n",
            "Epoch 149/150\n",
            "6/6 [==============================] - 0s 16ms/step - loss: 9.3218 - val_loss: 9.2166\n",
            "Epoch 150/150\n",
            "6/6 [==============================] - 0s 17ms/step - loss: 9.3498 - val_loss: 9.2141\n",
            "Epoch 1/150\n",
            "2/2 [==============================] - 1s 279ms/step - loss: 13.4435 - val_loss: 13.3842\n",
            "Epoch 2/150\n",
            "2/2 [==============================] - 0s 60ms/step - loss: 13.3989 - val_loss: 13.3385\n",
            "Epoch 3/150\n",
            "2/2 [==============================] - 0s 63ms/step - loss: 13.3766 - val_loss: 13.3115\n",
            "Epoch 4/150\n",
            "2/2 [==============================] - 0s 61ms/step - loss: 13.3441 - val_loss: 13.2469\n",
            "Epoch 5/150\n",
            "2/2 [==============================] - 0s 61ms/step - loss: 13.2663 - val_loss: 13.2400\n",
            "Epoch 6/150\n",
            "2/2 [==============================] - 0s 65ms/step - loss: 13.2561 - val_loss: 13.2005\n",
            "Epoch 7/150\n",
            "2/2 [==============================] - 0s 64ms/step - loss: 13.2195 - val_loss: 13.1769\n",
            "Epoch 8/150\n",
            "2/2 [==============================] - 0s 64ms/step - loss: 13.2736 - val_loss: 13.1629\n",
            "Epoch 9/150\n",
            "2/2 [==============================] - 0s 61ms/step - loss: 13.1586 - val_loss: 13.1178\n",
            "Epoch 10/150\n",
            "2/2 [==============================] - 0s 63ms/step - loss: 13.1411 - val_loss: 13.1113\n",
            "Epoch 11/150\n",
            "2/2 [==============================] - 0s 69ms/step - loss: 13.1176 - val_loss: 13.0760\n",
            "Epoch 12/150\n",
            "2/2 [==============================] - 0s 65ms/step - loss: 13.0940 - val_loss: 13.0375\n",
            "Epoch 13/150\n",
            "2/2 [==============================] - 0s 76ms/step - loss: 13.1050 - val_loss: 13.0776\n",
            "Epoch 14/150\n",
            "2/2 [==============================] - 0s 69ms/step - loss: 13.0558 - val_loss: 13.0144\n",
            "Epoch 15/150\n",
            "2/2 [==============================] - 0s 73ms/step - loss: 13.0430 - val_loss: 13.0075\n",
            "Epoch 16/150\n",
            "2/2 [==============================] - 0s 69ms/step - loss: 12.9824 - val_loss: 12.9957\n",
            "Epoch 17/150\n",
            "2/2 [==============================] - 0s 66ms/step - loss: 12.9849 - val_loss: 12.9529\n",
            "Epoch 18/150\n",
            "2/2 [==============================] - 0s 74ms/step - loss: 12.9772 - val_loss: 12.9184\n",
            "Epoch 19/150\n",
            "2/2 [==============================] - 0s 62ms/step - loss: 12.9875 - val_loss: 12.9185\n",
            "Epoch 20/150\n",
            "2/2 [==============================] - 0s 70ms/step - loss: 12.9705 - val_loss: 12.9020\n",
            "Epoch 21/150\n",
            "2/2 [==============================] - 0s 80ms/step - loss: 12.9329 - val_loss: 12.8789\n",
            "Epoch 22/150\n",
            "2/2 [==============================] - 0s 63ms/step - loss: 12.9053 - val_loss: 12.8396\n",
            "Epoch 23/150\n",
            "2/2 [==============================] - 0s 62ms/step - loss: 12.8582 - val_loss: 12.8336\n",
            "Epoch 24/150\n",
            "2/2 [==============================] - 0s 65ms/step - loss: 12.8615 - val_loss: 12.8263\n",
            "Epoch 25/150\n",
            "2/2 [==============================] - 0s 67ms/step - loss: 12.8418 - val_loss: 12.7794\n",
            "Epoch 26/150\n",
            "2/2 [==============================] - 0s 78ms/step - loss: 12.8316 - val_loss: 12.8093\n",
            "Epoch 27/150\n",
            "2/2 [==============================] - 0s 71ms/step - loss: 12.7655 - val_loss: 12.7607\n",
            "Epoch 28/150\n",
            "2/2 [==============================] - 0s 65ms/step - loss: 12.7797 - val_loss: 12.7160\n",
            "Epoch 29/150\n",
            "2/2 [==============================] - 0s 68ms/step - loss: 12.7581 - val_loss: 12.7005\n",
            "Epoch 30/150\n",
            "2/2 [==============================] - 0s 63ms/step - loss: 12.7527 - val_loss: 12.6792\n",
            "Epoch 31/150\n",
            "2/2 [==============================] - 0s 66ms/step - loss: 12.7179 - val_loss: 12.6802\n",
            "Epoch 32/150\n",
            "2/2 [==============================] - 0s 66ms/step - loss: 12.7112 - val_loss: 12.6333\n",
            "Epoch 33/150\n",
            "2/2 [==============================] - 0s 67ms/step - loss: 12.6863 - val_loss: 12.6367\n",
            "Epoch 34/150\n",
            "2/2 [==============================] - 0s 71ms/step - loss: 12.6413 - val_loss: 12.5979\n",
            "Epoch 35/150\n",
            "2/2 [==============================] - 0s 62ms/step - loss: 12.6317 - val_loss: 12.5777\n",
            "Epoch 36/150\n",
            "2/2 [==============================] - 0s 69ms/step - loss: 12.5930 - val_loss: 12.5510\n",
            "Epoch 37/150\n",
            "2/2 [==============================] - 0s 61ms/step - loss: 12.6014 - val_loss: 12.5510\n",
            "Epoch 38/150\n",
            "2/2 [==============================] - 0s 60ms/step - loss: 12.5386 - val_loss: 12.5370\n",
            "Epoch 39/150\n",
            "2/2 [==============================] - 0s 65ms/step - loss: 12.5279 - val_loss: 12.4946\n",
            "Epoch 40/150\n",
            "2/2 [==============================] - 0s 60ms/step - loss: 12.5121 - val_loss: 12.5107\n",
            "Epoch 41/150\n",
            "2/2 [==============================] - 0s 65ms/step - loss: 12.4605 - val_loss: 12.4635\n",
            "Epoch 42/150\n",
            "2/2 [==============================] - 0s 63ms/step - loss: 12.4594 - val_loss: 12.3999\n",
            "Epoch 43/150\n",
            "2/2 [==============================] - 0s 65ms/step - loss: 12.4438 - val_loss: 12.3661\n",
            "Epoch 44/150\n",
            "2/2 [==============================] - 0s 64ms/step - loss: 12.3773 - val_loss: 12.3504\n",
            "Epoch 45/150\n",
            "2/2 [==============================] - 0s 61ms/step - loss: 12.4073 - val_loss: 12.3179\n",
            "Epoch 46/150\n",
            "2/2 [==============================] - 0s 68ms/step - loss: 12.4038 - val_loss: 12.2508\n",
            "Epoch 47/150\n",
            "2/2 [==============================] - 0s 72ms/step - loss: 12.3472 - val_loss: 12.2759\n",
            "Epoch 48/150\n",
            "2/2 [==============================] - 0s 61ms/step - loss: 12.3354 - val_loss: 12.2589\n",
            "Epoch 49/150\n",
            "2/2 [==============================] - 0s 63ms/step - loss: 12.2979 - val_loss: 12.1983\n",
            "Epoch 50/150\n",
            "2/2 [==============================] - 0s 73ms/step - loss: 12.2962 - val_loss: 12.1240\n",
            "Epoch 51/150\n",
            "2/2 [==============================] - 0s 62ms/step - loss: 12.2381 - val_loss: 12.1518\n",
            "Epoch 52/150\n",
            "2/2 [==============================] - 0s 71ms/step - loss: 12.2192 - val_loss: 12.1048\n",
            "Epoch 53/150\n",
            "2/2 [==============================] - 0s 71ms/step - loss: 12.2084 - val_loss: 12.0481\n",
            "Epoch 54/150\n",
            "2/2 [==============================] - 0s 66ms/step - loss: 12.1797 - val_loss: 12.1453\n",
            "Epoch 55/150\n",
            "2/2 [==============================] - 0s 60ms/step - loss: 12.1616 - val_loss: 12.0505\n",
            "Epoch 56/150\n",
            "2/2 [==============================] - 0s 56ms/step - loss: 12.1477 - val_loss: 11.9996\n",
            "Epoch 57/150\n",
            "2/2 [==============================] - 0s 60ms/step - loss: 12.0455 - val_loss: 11.9844\n",
            "Epoch 58/150\n",
            "2/2 [==============================] - 0s 65ms/step - loss: 12.0511 - val_loss: 11.9272\n",
            "Epoch 59/150\n",
            "2/2 [==============================] - 0s 68ms/step - loss: 11.9587 - val_loss: 11.9128\n",
            "Epoch 60/150\n",
            "2/2 [==============================] - 0s 68ms/step - loss: 12.0143 - val_loss: 11.8819\n",
            "Epoch 61/150\n",
            "2/2 [==============================] - 0s 73ms/step - loss: 11.9510 - val_loss: 11.8784\n",
            "Epoch 62/150\n",
            "2/2 [==============================] - 0s 61ms/step - loss: 11.9041 - val_loss: 11.8179\n",
            "Epoch 63/150\n",
            "2/2 [==============================] - 0s 62ms/step - loss: 11.9020 - val_loss: 11.8116\n",
            "Epoch 64/150\n",
            "2/2 [==============================] - 0s 66ms/step - loss: 11.8602 - val_loss: 11.7516\n",
            "Epoch 65/150\n",
            "2/2 [==============================] - 0s 64ms/step - loss: 11.8560 - val_loss: 11.7171\n",
            "Epoch 66/150\n",
            "2/2 [==============================] - 0s 63ms/step - loss: 11.7785 - val_loss: 11.6820\n",
            "Epoch 67/150\n",
            "2/2 [==============================] - 0s 71ms/step - loss: 11.7619 - val_loss: 11.6700\n",
            "Epoch 68/150\n",
            "2/2 [==============================] - 0s 63ms/step - loss: 11.8283 - val_loss: 11.6734\n",
            "Epoch 69/150\n",
            "2/2 [==============================] - 0s 60ms/step - loss: 11.7579 - val_loss: 11.6345\n",
            "Epoch 70/150\n",
            "2/2 [==============================] - 0s 65ms/step - loss: 11.6713 - val_loss: 11.5937\n",
            "Epoch 71/150\n",
            "2/2 [==============================] - 0s 62ms/step - loss: 11.5717 - val_loss: 11.5905\n",
            "Epoch 72/150\n",
            "2/2 [==============================] - 0s 67ms/step - loss: 11.6147 - val_loss: 11.5063\n",
            "Epoch 73/150\n",
            "2/2 [==============================] - 0s 63ms/step - loss: 11.5850 - val_loss: 11.4525\n",
            "Epoch 74/150\n",
            "2/2 [==============================] - 0s 67ms/step - loss: 11.5255 - val_loss: 11.5107\n",
            "Epoch 75/150\n",
            "2/2 [==============================] - 0s 69ms/step - loss: 11.5840 - val_loss: 11.4512\n",
            "Epoch 76/150\n",
            "2/2 [==============================] - 0s 69ms/step - loss: 11.5244 - val_loss: 11.4176\n",
            "Epoch 77/150\n",
            "2/2 [==============================] - 0s 63ms/step - loss: 11.4477 - val_loss: 11.4054\n",
            "Epoch 78/150\n",
            "2/2 [==============================] - 0s 67ms/step - loss: 11.4801 - val_loss: 11.3921\n",
            "Epoch 79/150\n",
            "2/2 [==============================] - 0s 69ms/step - loss: 11.4359 - val_loss: 11.3629\n",
            "Epoch 80/150\n",
            "2/2 [==============================] - 0s 75ms/step - loss: 11.4547 - val_loss: 11.2881\n",
            "Epoch 81/150\n",
            "2/2 [==============================] - 0s 65ms/step - loss: 11.3935 - val_loss: 11.2740\n",
            "Epoch 82/150\n",
            "2/2 [==============================] - 0s 70ms/step - loss: 11.3824 - val_loss: 11.2739\n",
            "Epoch 83/150\n",
            "2/2 [==============================] - 0s 59ms/step - loss: 11.3626 - val_loss: 11.2540\n",
            "Epoch 84/150\n",
            "2/2 [==============================] - 0s 62ms/step - loss: 11.3231 - val_loss: 11.2190\n",
            "Epoch 85/150\n",
            "2/2 [==============================] - 0s 58ms/step - loss: 11.2391 - val_loss: 11.2358\n",
            "Epoch 86/150\n",
            "2/2 [==============================] - 0s 63ms/step - loss: 11.2720 - val_loss: 11.2123\n",
            "Epoch 87/150\n",
            "2/2 [==============================] - 0s 61ms/step - loss: 11.3058 - val_loss: 11.1629\n",
            "Epoch 88/150\n",
            "2/2 [==============================] - 0s 58ms/step - loss: 11.2357 - val_loss: 11.1972\n",
            "Epoch 89/150\n",
            "2/2 [==============================] - 0s 60ms/step - loss: 11.2651 - val_loss: 11.1965\n",
            "Epoch 90/150\n",
            "2/2 [==============================] - 0s 72ms/step - loss: 11.1549 - val_loss: 11.1423\n",
            "Epoch 91/150\n",
            "2/2 [==============================] - 0s 63ms/step - loss: 11.2187 - val_loss: 11.1742\n",
            "Epoch 92/150\n",
            "2/2 [==============================] - 0s 67ms/step - loss: 11.1989 - val_loss: 11.1206\n",
            "Epoch 93/150\n",
            "2/2 [==============================] - 0s 67ms/step - loss: 11.1443 - val_loss: 11.0688\n",
            "Epoch 94/150\n",
            "2/2 [==============================] - 0s 70ms/step - loss: 11.1470 - val_loss: 11.0473\n",
            "Epoch 95/150\n",
            "2/2 [==============================] - 0s 65ms/step - loss: 11.1199 - val_loss: 10.9566\n",
            "Epoch 96/150\n",
            "2/2 [==============================] - 0s 67ms/step - loss: 11.1605 - val_loss: 11.0335\n",
            "Epoch 97/150\n",
            "2/2 [==============================] - 0s 63ms/step - loss: 11.1454 - val_loss: 11.0464\n",
            "Epoch 98/150\n",
            "2/2 [==============================] - 0s 71ms/step - loss: 11.0797 - val_loss: 11.0226\n",
            "Epoch 99/150\n",
            "2/2 [==============================] - 0s 67ms/step - loss: 11.0733 - val_loss: 10.9874\n",
            "Epoch 100/150\n",
            "2/2 [==============================] - 0s 68ms/step - loss: 11.0654 - val_loss: 10.9810\n",
            "Epoch 101/150\n",
            "2/2 [==============================] - 0s 63ms/step - loss: 11.0403 - val_loss: 11.0170\n",
            "Epoch 102/150\n",
            "2/2 [==============================] - 0s 58ms/step - loss: 11.0993 - val_loss: 10.9712\n",
            "Epoch 103/150\n",
            "2/2 [==============================] - 0s 64ms/step - loss: 11.0304 - val_loss: 10.9672\n",
            "Epoch 104/150\n",
            "2/2 [==============================] - 0s 72ms/step - loss: 11.0632 - val_loss: 10.9174\n",
            "Epoch 105/150\n",
            "2/2 [==============================] - 0s 65ms/step - loss: 11.0749 - val_loss: 10.9329\n",
            "Epoch 106/150\n",
            "2/2 [==============================] - 0s 62ms/step - loss: 11.0046 - val_loss: 10.9175\n",
            "Epoch 107/150\n",
            "2/2 [==============================] - 0s 64ms/step - loss: 11.0136 - val_loss: 10.9089\n",
            "Epoch 108/150\n",
            "2/2 [==============================] - 0s 77ms/step - loss: 11.0105 - val_loss: 10.9622\n",
            "Epoch 109/150\n",
            "2/2 [==============================] - 0s 60ms/step - loss: 11.0125 - val_loss: 10.9911\n",
            "Epoch 110/150\n",
            "2/2 [==============================] - 0s 64ms/step - loss: 10.9792 - val_loss: 10.8979\n",
            "Epoch 111/150\n",
            "2/2 [==============================] - 0s 70ms/step - loss: 11.0550 - val_loss: 10.9663\n",
            "Epoch 112/150\n",
            "2/2 [==============================] - 0s 66ms/step - loss: 11.0854 - val_loss: 10.9008\n",
            "Epoch 113/150\n",
            "2/2 [==============================] - 0s 65ms/step - loss: 10.9914 - val_loss: 10.9040\n",
            "Epoch 114/150\n",
            "2/2 [==============================] - 0s 69ms/step - loss: 10.9662 - val_loss: 10.9091\n",
            "Epoch 115/150\n",
            "2/2 [==============================] - 0s 64ms/step - loss: 10.9773 - val_loss: 10.9320\n",
            "Epoch 116/150\n",
            "2/2 [==============================] - 0s 72ms/step - loss: 10.9693 - val_loss: 10.9016\n",
            "Epoch 117/150\n",
            "2/2 [==============================] - 0s 64ms/step - loss: 11.0962 - val_loss: 10.9011\n",
            "Epoch 118/150\n",
            "2/2 [==============================] - 0s 69ms/step - loss: 10.9976 - val_loss: 10.9347\n",
            "Epoch 119/150\n",
            "2/2 [==============================] - 0s 69ms/step - loss: 11.0025 - val_loss: 10.8879\n",
            "Epoch 120/150\n",
            "2/2 [==============================] - 0s 67ms/step - loss: 10.9771 - val_loss: 10.9022\n",
            "Epoch 121/150\n",
            "2/2 [==============================] - 0s 63ms/step - loss: 10.9782 - val_loss: 10.9021\n",
            "Epoch 122/150\n",
            "2/2 [==============================] - 0s 59ms/step - loss: 10.9566 - val_loss: 10.8625\n",
            "Epoch 123/150\n",
            "2/2 [==============================] - 0s 72ms/step - loss: 10.9873 - val_loss: 10.9056\n",
            "Epoch 124/150\n",
            "2/2 [==============================] - 0s 62ms/step - loss: 10.9487 - val_loss: 10.8259\n",
            "Epoch 125/150\n",
            "2/2 [==============================] - 0s 64ms/step - loss: 10.9595 - val_loss: 10.8832\n",
            "Epoch 126/150\n",
            "2/2 [==============================] - 0s 66ms/step - loss: 10.9777 - val_loss: 10.8405\n",
            "Epoch 127/150\n",
            "2/2 [==============================] - 0s 73ms/step - loss: 10.9167 - val_loss: 10.9186\n",
            "Epoch 128/150\n",
            "2/2 [==============================] - 0s 79ms/step - loss: 10.9585 - val_loss: 10.8490\n",
            "Epoch 129/150\n",
            "2/2 [==============================] - 0s 59ms/step - loss: 10.9431 - val_loss: 10.8542\n",
            "Epoch 130/150\n",
            "2/2 [==============================] - 0s 62ms/step - loss: 10.8969 - val_loss: 10.8594\n",
            "Epoch 131/150\n",
            "2/2 [==============================] - 0s 71ms/step - loss: 10.9025 - val_loss: 10.8819\n",
            "Epoch 132/150\n",
            "2/2 [==============================] - 0s 67ms/step - loss: 10.9218 - val_loss: 10.9031\n",
            "Epoch 133/150\n",
            "2/2 [==============================] - 0s 65ms/step - loss: 10.9439 - val_loss: 10.8594\n",
            "Epoch 134/150\n",
            "2/2 [==============================] - 0s 65ms/step - loss: 10.9243 - val_loss: 10.8219\n",
            "Epoch 135/150\n",
            "2/2 [==============================] - 0s 75ms/step - loss: 10.8664 - val_loss: 10.9310\n",
            "Epoch 136/150\n",
            "2/2 [==============================] - 0s 68ms/step - loss: 10.9403 - val_loss: 10.8310\n",
            "Epoch 137/150\n",
            "2/2 [==============================] - 0s 60ms/step - loss: 10.9515 - val_loss: 10.8775\n",
            "Epoch 138/150\n",
            "2/2 [==============================] - 0s 66ms/step - loss: 10.8689 - val_loss: 10.8329\n",
            "Epoch 139/150\n",
            "2/2 [==============================] - 0s 71ms/step - loss: 10.9522 - val_loss: 10.8300\n",
            "Epoch 140/150\n",
            "2/2 [==============================] - 0s 63ms/step - loss: 10.9169 - val_loss: 10.8173\n",
            "Epoch 141/150\n",
            "2/2 [==============================] - 0s 64ms/step - loss: 10.9620 - val_loss: 10.8387\n",
            "Epoch 142/150\n",
            "2/2 [==============================] - 0s 63ms/step - loss: 10.9220 - val_loss: 10.8482\n",
            "Epoch 143/150\n",
            "2/2 [==============================] - 0s 75ms/step - loss: 10.9359 - val_loss: 10.9039\n",
            "Epoch 144/150\n",
            "2/2 [==============================] - 0s 74ms/step - loss: 10.8467 - val_loss: 10.8800\n",
            "Epoch 145/150\n",
            "2/2 [==============================] - 0s 65ms/step - loss: 10.9053 - val_loss: 10.8714\n",
            "Epoch 146/150\n",
            "2/2 [==============================] - 0s 63ms/step - loss: 10.9005 - val_loss: 10.8511\n",
            "Epoch 147/150\n",
            "2/2 [==============================] - 0s 72ms/step - loss: 10.9117 - val_loss: 10.8659\n",
            "Epoch 148/150\n",
            "2/2 [==============================] - 0s 70ms/step - loss: 10.9336 - val_loss: 10.7979\n",
            "Epoch 149/150\n",
            "2/2 [==============================] - 0s 64ms/step - loss: 10.9072 - val_loss: 10.8381\n",
            "Epoch 150/150\n",
            "2/2 [==============================] - 0s 66ms/step - loss: 10.8842 - val_loss: 10.8854\n"
          ],
          "name": "stdout"
        }
      ]
    },
    {
      "cell_type": "markdown",
      "metadata": {
        "id": "h-XLj0MlkzT6"
      },
      "source": [
        "**visualize and compare each variable distribution of VAE-generated patients**"
      ]
    },
    {
      "cell_type": "markdown",
      "metadata": {
        "id": "5fnN6kZMvn60"
      },
      "source": [
        "|Type      |Mean |SD   |25% |Median  | 75%|\n",
        "|------|------|------|---|---|---|\n",
        "|real     |36.154371|0.928990| 35.599998|36.327420|36.799999     |\n",
        "|virtual     |34.613926  |0.386335|34.394507   |34.424076|34.494746|"
      ]
    },
    {
      "cell_type": "code",
      "metadata": {
        "colab": {
          "base_uri": "https://localhost:8080/",
          "height": 656
        },
        "id": "aOMIp41Rm-dG",
        "outputId": "80645d1d-25a2-4d95-fc00-912a3f272dc6"
      },
      "source": [
        "# feature_list = ['hr0_temp', 'hr0_hr', 'hr0_factorii', 'hr0_factorv', 'hr0_factorx', 'hr0_plts']\n",
        "data_real = trauma_data[Interest_features]\n",
        "data_virtual = pd.concat([result_0, result_1])[Interest_features]\n",
        "\n",
        "data_real['Type'] = 'Real'\n",
        "data_virtual['Type'] = 'Virtual'\n",
        "cdf = pd.concat([data_virtual, data_real])\n",
        "\n",
        "fig, axs = plt.subplots(2,3, figsize=(15, 10))\n",
        "\n",
        "for i, feature in enumerate(Interest_features):\n",
        "  sns.boxplot(x='Type', y=feature, data=cdf, orient='v', ax=axs[i//3][i%3])\n",
        "\n",
        "fig.suptitle('Real vs. Virtual Patients (Variational Autoencoder)')\n",
        "fig.tight_layout(pad=8)\n",
        "# fig.savefig('gdrive/MyDrive/VAE_seaborn_vis.png')\n",
        "plt.show()"
      ],
      "execution_count": null,
      "outputs": [
        {
          "output_type": "display_data",
          "data": {
            "image/png": "[encoded data removed]",
            "text/plain": [
              "<Figure size 1080x720 with 6 Axes>"
            ]
          },
          "metadata": {
            "tags": [],
            "needs_background": "light"
          }
        }
      ]
    },
    {
      "cell_type": "code",
      "metadata": {
        "colab": {
          "base_uri": "https://localhost:8080/"
        },
        "id": "N3N4pXwBDKYa",
        "outputId": "83b59332-ba6e-421c-e87a-bca95210faf7"
      },
      "source": [
        "desire_stat = ['mean', 'std', '25%', '50%', '75%']\n",
        "\n",
        "for feature in Interest_features:\n",
        "\n",
        "  dis1 = trauma_data[feature].describe()\n",
        "  dis2 = data_virtual[feature].describe()\n",
        "\n",
        "  data = np.hstack([dis1.values, dis2.values])\n",
        "  table = pd.DataFrame(index=['real', 'virtual'], columns=dis1.index, data=data.reshape(2, 8))\n",
        "  table.columns.name = feature\n",
        "  print(table[desire_stat].to_markdown())\n",
        "  print('\\n\\n')"
      ],
      "execution_count": null,
      "outputs": [
        {
          "output_type": "stream",
          "text": [
            "|         |     mean |      std |      25% |      50% |      75% |\n",
            "|:--------|---------:|---------:|---------:|---------:|---------:|\n",
            "| real    | 1.03964  | 0.725248 | 0.8      | 0.95     | 1.14     |\n",
            "| virtual | 0.874792 | 0.408296 | 0.670547 | 0.738503 | 0.818784 |\n",
            "\n",
            "\n",
            "\n",
            "|         |     mean |     std |     25% |     50% |      75% |\n",
            "|:--------|---------:|--------:|--------:|--------:|---------:|\n",
            "| real    | 10.6087  | 4.9821  | 7.4     | 9.6     | 12.8     |\n",
            "| virtual |  6.52265 | 2.71274 | 5.05021 | 5.57811 |  5.93195 |\n",
            "\n",
            "\n",
            "\n",
            "|         |    mean |     std |     25% |     50% |     75% |\n",
            "|:--------|--------:|--------:|--------:|--------:|--------:|\n",
            "| real    | 4.53939 | 7.22526 | 0.735   | 2.60323 | 6.055   |\n",
            "| virtual | 4.39559 | 3.79947 | 2.34067 | 3.13265 | 4.06245 |\n",
            "\n",
            "\n",
            "\n",
            "|         |    mean |     std |     25% |     50% |     75% |\n",
            "|:--------|--------:|--------:|--------:|--------:|--------:|\n",
            "| real    | 272.821 | 84.7272 | 220     | 269     | 320.066 |\n",
            "| virtual | 233.442 | 13.4454 | 228.236 | 233.936 | 238.808 |\n",
            "\n",
            "\n",
            "\n",
            "|         |    mean |     std |     25% |     50% |     75% |\n",
            "|:--------|--------:|--------:|--------:|--------:|--------:|\n",
            "| real    | 15.0198 | 5.83068 | 13.2    | 13.9    | 15      |\n",
            "| virtual | 18.5678 | 4.43007 | 16.2367 | 17.3569 | 18.2452 |\n",
            "\n",
            "\n",
            "\n",
            "|         |    mean |      std |     25% |     50% |     75% |\n",
            "|:--------|--------:|---------:|--------:|--------:|--------:|\n",
            "| real    | 36.1544 | 0.92899  | 35.6    | 36.3274 | 36.8    |\n",
            "| virtual | 34.6162 | 0.387822 | 34.4064 | 34.4455 | 34.5042 |\n",
            "\n",
            "\n",
            "\n"
          ],
          "name": "stdout"
        }
      ]
    },
    {
      "cell_type": "markdown",
      "metadata": {
        "id": "vkq2x-njFz7w"
      },
      "source": [
        "|         |     mean |      std |      25% |      50% |      75% |\n",
        "|:--------|---------:|---------:|---------:|---------:|---------:|\n",
        "| real    | 1.03964  | 0.725248 | 0.8      | 0.95     | 1.14     |\n",
        "| virtual | 0.874792 | 0.408296 | 0.670547 | 0.738503 | 0.818784 |\n",
        "\n",
        "\n",
        "\n",
        "|         |     mean |     std |     25% |     50% |      75% |\n",
        "|:--------|---------:|--------:|--------:|--------:|---------:|\n",
        "| real    | 10.6087  | 4.9821  | 7.4     | 9.6     | 12.8     |\n",
        "| virtual |  6.52265 | 2.71274 | 5.05021 | 5.57811 |  5.93195 |\n",
        "\n",
        "\n",
        "\n",
        "|         |    mean |     std |     25% |     50% |     75% |\n",
        "|:--------|--------:|--------:|--------:|--------:|--------:|\n",
        "| real    | 4.53939 | 7.22526 | 0.735   | 2.60323 | 6.055   |\n",
        "| virtual | 4.39559 | 3.79947 | 2.34067 | 3.13265 | 4.06245 |\n",
        "\n",
        "\n",
        "\n",
        "|         |    mean |     std |     25% |     50% |     75% |\n",
        "|:--------|--------:|--------:|--------:|--------:|--------:|\n",
        "| real    | 272.821 | 84.7272 | 220     | 269     | 320.066 |\n",
        "| virtual | 233.442 | 13.4454 | 228.236 | 233.936 | 238.808 |\n",
        "\n",
        "\n",
        "\n",
        "|         |    mean |     std |     25% |     50% |     75% |\n",
        "|:--------|--------:|--------:|--------:|--------:|--------:|\n",
        "| real    | 15.0198 | 5.83068 | 13.2    | 13.9    | 15      |\n",
        "| virtual | 18.5678 | 4.43007 | 16.2367 | 17.3569 | 18.2452 |\n",
        "\n",
        "\n",
        "\n",
        "|         |    mean |      std |     25% |     50% |     75% |\n",
        "|:--------|--------:|---------:|--------:|--------:|--------:|\n",
        "| real    | 36.1544 | 0.92899  | 35.6    | 36.3274 | 36.8    |\n",
        "| virtual | 34.6162 | 0.387822 | 34.4064 | 34.4455 | 34.5042 |"
      ]
    },
    {
      "cell_type": "markdown",
      "metadata": {
        "id": "FUgtDLGXTKy_"
      },
      "source": [
        "**Use GDA to generate data**"
      ]
    },
    {
      "cell_type": "code",
      "metadata": {
        "id": "yfFwH_KdXLHi"
      },
      "source": [
        "# GDA model\n",
        "# MAP\n",
        "from scipy.stats import multivariate_normal as mvn\n",
        "class GDA:\n",
        "    def __init__(self, x_train, y_train):\n",
        "        assert x_train.shape[0] == y_train.shape[0]\n",
        "        self.n = x_train.shape[0]    # The number of training points\n",
        "        self.p = x_train.shape[1] # The dimension of the data (number of features)\n",
        "        self.x_train = x_train # Training features\n",
        "        self.y_train = y_train # Training labels (either 0 or 1)\n",
        "        \n",
        "        # Parameters that need to be fit.\n",
        "        self.mu0 = None\n",
        "        self.mu1 = None\n",
        "        self.Sigma = None\n",
        "        self.phi = None\n",
        "    \n",
        "    def fit(self):\n",
        "\n",
        "        X = self.x_train\n",
        "        y = self.y_train\n",
        "        n = self.n\n",
        "        p = self.p\n",
        "        \n",
        "        self.phi = np.mean(y)\n",
        "        self.mu0 = np.mean(X[y == 0], axis=0)\n",
        "        self.mu1 = np.mean(X[y == 1], axis=0)\n",
        "        \n",
        "        N_x0 = X[y == 0] - self.mu0\n",
        "        N_x1 = X[y == 1] - self.mu1\n",
        "        self.Sigma = (np.dot(N_x0.T, N_x0) + \n",
        "                      np.dot(N_x1.T, N_x1))/self.n\n",
        "    \n",
        "    def predict(self, x_test):\n",
        "\n",
        "        rv0 = mvn.pdf(x_test, self.mu0, self.Sigma)*(1-self.phi)\n",
        "        rv1 = mvn.pdf(x_test, self.mu1, self.Sigma)*self.phi\n",
        "        y_pred = rv1 > rv0\n",
        "        y_pred = y_pred.astype(np.int32)\n",
        "        return y_pred\n",
        "    def predict_prob(self, x_test):\n",
        "        rv0 = mvn.pdf(x_test, self.mu0, self.Sigma)*(1-self.phi)\n",
        "        rv1 = mvn.pdf(x_test, self.mu1, self.Sigma)*self.phi\n",
        "        return (rv0, rv1)\n",
        "    def sample(self, label, n_samples):\n",
        "        if (label == 0):\n",
        "            x_sampled = mvn.rvs(mean=self.mu0, cov=self.Sigma, size=n_samples)\n",
        "        else:\n",
        "            x_sampled = mvn.rvs(mean=self.mu1, cov=self.Sigma, size=n_samples)        \n",
        "        return x_sampled"
      ],
      "execution_count": null,
      "outputs": []
    },
    {
      "cell_type": "code",
      "metadata": {
        "colab": {
          "base_uri": "https://localhost:8080/"
        },
        "id": "nB2y26Kvdx7p",
        "outputId": "0fdc1125-d9b7-4e8c-d1a0-b729aa3648b2"
      },
      "source": [
        "#test QuadraticDiscriminantAnalysis\n",
        "# from sklearn.discriminant_analysis import QuadraticDiscriminantAnalysis\n",
        "# clf = QuadraticDiscriminantAnalysis()\n",
        "# clf.fit(X_train, y_train)\n",
        "# y_pred = gda.predict(X_test)\n",
        "# acc_gda = accuracy_score(y_pred, y_test)\n",
        "# print(f'mean accuracy is {acc_gda * 100}')\n",
        "# print(confusion_matrix(y_pred, y_test))\n",
        "# print('auc score: ', roc_auc_score(y_test, clf.predict_proba(X_test)[:, 1]))\n",
        "\n",
        "# gda = GDA(X_train, y_train)\n",
        "# gda.fit()\n",
        "\n",
        "# roc_auc_score(y_test, gda.predict_prob(X_test)[1])"
      ],
      "execution_count": null,
      "outputs": [
        {
          "output_type": "execute_result",
          "data": {
            "text/plain": [
              "0.7034098617985356"
            ]
          },
          "metadata": {
            "tags": []
          },
          "execution_count": 48
        }
      ]
    },
    {
      "cell_type": "code",
      "metadata": {
        "colab": {
          "base_uri": "https://localhost:8080/"
        },
        "id": "dc46sx3gXl52",
        "outputId": "568d17d8-35ab-4612-b8e6-c73a1f78ecfe"
      },
      "source": [
        "#GDA baseline\n",
        "# X_train, X_test, y_train, y_test = train_test_split(original_df.loc[:, X.columns != 'Mortality'], y, test_size=0.3, random_state=0)\n",
        "X_train = trauma_data.drop(columns='Mortality')\n",
        "y_train = trauma_data.Mortality\n",
        "X_test = final_test_set.drop(columns='Mortality')\n",
        "y_test = final_test_set.Mortality\n",
        "gda = GDA(X_train, y_train)\n",
        "gda.fit()\n",
        "\n",
        "y_pred = gda.predict(X_test)\n",
        "acc_gda = accuracy_score(y_pred, y_test)\n",
        "print(f'mean accuracy is {acc_gda * 100}')\n",
        "print(confusion_matrix(y_pred, y_test))\n",
        "\n",
        "print('auc score: ', roc_auc_score(y_test, gda.predict_prob(X_test)[1]))"
      ],
      "execution_count": null,
      "outputs": [
        {
          "output_type": "stream",
          "text": [
            "mean accuracy is 95.28619528619528\n",
            "[[233   5]\n",
            " [  9  50]]\n",
            "auc score:  0.7654395191585274\n"
          ],
          "name": "stdout"
        }
      ]
    },
    {
      "cell_type": "code",
      "metadata": {
        "colab": {
          "base_uri": "https://localhost:8080/"
        },
        "id": "CA3AoRs2xf36",
        "outputId": "c43b908d-af39-49c1-ad19-f31394c0c4bc"
      },
      "source": [
        "#(Test)\n",
        "#GDA baseline\n",
        "# X_train, X_test, y_train, y_test = train_test_split(original_df.loc[:, X.columns != 'Mortality'], y, test_size=0.3, random_state=0)\n",
        "X_train = trauma_data.drop(columns='Mortality')\n",
        "y_train = trauma_data.Mortality\n",
        "X_test = final_test_set.drop(columns='Mortality')\n",
        "y_test = final_test_set.Mortality\n",
        "\n",
        "x = X_train.values #returns a numpy array\n",
        "min_max_scaler_t = MinMaxScaler()\n",
        "x_scaled = min_max_scaler_t.fit_transform(x)\n",
        "X_train = pd.DataFrame(x_scaled)\n",
        "X_train.columns = trauma_data.drop(columns='Mortality').columns\n",
        "\n",
        "x = X_test.values #returns a numpy array\n",
        "min_max_scaler_t = MinMaxScaler()\n",
        "x_scaled = min_max_scaler_t.fit_transform(x)\n",
        "X_test = pd.DataFrame(x_scaled)\n",
        "X_test.columns = trauma_data.drop(columns='Mortality').columns\n",
        "\n",
        "y_train = y_train.reset_index(drop=True)\n",
        "y_test = y_test.reset_index(drop=True)\n",
        "\n",
        "gda = GDA(X_train, y_train)\n",
        "gda.fit()\n",
        "\n",
        "y_pred = gda.predict(X_test)\n",
        "acc_gda = accuracy_score(y_pred, y_test)\n",
        "print(f'mean accuracy is {acc_gda * 100}')\n",
        "print(confusion_matrix(y_pred, y_test))\n",
        "\n",
        "print('auc score: ', roc_auc_score(y_test, gda.predict_prob(X_test)[1]))"
      ],
      "execution_count": null,
      "outputs": [
        {
          "output_type": "stream",
          "text": [
            "mean accuracy is 94.27609427609428\n",
            "[[229   4]\n",
            " [ 13  51]]\n",
            "auc score:  0.5262960180315552\n"
          ],
          "name": "stdout"
        }
      ]
    },
    {
      "cell_type": "code",
      "metadata": {
        "colab": {
          "base_uri": "https://localhost:8080/"
        },
        "id": "mEGUDTR5y6wf",
        "outputId": "66864771-b7c0-42d0-db6b-06530d0af341"
      },
      "source": [
        ""
      ],
      "execution_count": null,
      "outputs": [
        {
          "output_type": "execute_result",
          "data": {
            "text/plain": [
              "0       0\n",
              "1       0\n",
              "2       0\n",
              "3       0\n",
              "4       0\n",
              "       ..\n",
              "1182    0\n",
              "1183    0\n",
              "1184    1\n",
              "1185    0\n",
              "1186    0\n",
              "Name: Mortality, Length: 1187, dtype: int64"
            ]
          },
          "metadata": {
            "tags": []
          },
          "execution_count": 66
        }
      ]
    },
    {
      "cell_type": "code",
      "metadata": {
        "id": "RP7J62zpXN88"
      },
      "source": [
        "class_1_samples = gda.sample(label=1, n_samples=100000)\n",
        "class_1_samples_df = pd.DataFrame(data=class_1_samples, columns=trauma_data.columns.drop('Mortality'))\n",
        "class_0_samples = gda.sample(label=0, n_samples=100000)\n",
        "class_0_samples_df = pd.DataFrame(data=class_0_samples, columns=trauma_data.columns.drop('Mortality'))\n",
        "#Add outcome column and merge class0 and class1 dfs\n",
        "class_1_samples_df['Mortality'] = 1\n",
        "class_0_samples_df['Mortality'] = 0\n",
        "hr0_virtual_data = pd.concat([class_1_samples_df, class_0_samples_df])\n",
        "# hr0_virtual_data.hist(bins=20, figsize=(20,10))"
      ],
      "execution_count": null,
      "outputs": []
    },
    {
      "cell_type": "markdown",
      "metadata": {
        "id": "jU6YRhJSHYGI"
      },
      "source": [
        "(Test) remove the negative values By compressing towards median"
      ]
    },
    {
      "cell_type": "code",
      "metadata": {
        "colab": {
          "base_uri": "https://localhost:8080/",
          "height": 439
        },
        "id": "nHpjq2ocKZcp",
        "outputId": "db8b2e63-d908-4bcc-f8ee-a106282b7ad3"
      },
      "source": [
        "trauma_data"
      ],
      "execution_count": null,
      "outputs": [
        {
          "output_type": "execute_result",
          "data": {
            "text/html": [
              "<div>\n",
              "<style scoped>\n",
              "    .dataframe tbody tr th:only-of-type {\n",
              "        vertical-align: middle;\n",
              "    }\n",
              "\n",
              "    .dataframe tbody tr th {\n",
              "        vertical-align: top;\n",
              "    }\n",
              "\n",
              "    .dataframe thead th {\n",
              "        text-align: right;\n",
              "    }\n",
              "</style>\n",
              "<table border=\"1\" class=\"dataframe\">\n",
              "  <thead>\n",
              "    <tr style=\"text-align: right;\">\n",
              "      <th></th>\n",
              "      <th>hr0_temp</th>\n",
              "      <th>hr0_hr</th>\n",
              "      <th>hr0_resprate</th>\n",
              "      <th>hr0_sbp</th>\n",
              "      <th>hr0_ph</th>\n",
              "      <th>hr0_bun</th>\n",
              "      <th>hr0_creatinine</th>\n",
              "      <th>hr0_wbc</th>\n",
              "      <th>hr0_hgb</th>\n",
              "      <th>hr0_hct</th>\n",
              "      <th>hr0_factorii</th>\n",
              "      <th>hr0_factorv</th>\n",
              "      <th>hr0_factorx</th>\n",
              "      <th>hr0_tfpi</th>\n",
              "      <th>hr0_ddimer</th>\n",
              "      <th>hr0_pt</th>\n",
              "      <th>hr0_ptt</th>\n",
              "      <th>hr0_inr</th>\n",
              "      <th>hr0_plts</th>\n",
              "      <th>Mortality</th>\n",
              "    </tr>\n",
              "  </thead>\n",
              "  <tbody>\n",
              "    <tr>\n",
              "      <th>481</th>\n",
              "      <td>37.000000</td>\n",
              "      <td>91.0</td>\n",
              "      <td>18.000000</td>\n",
              "      <td>146.0</td>\n",
              "      <td>7.309521</td>\n",
              "      <td>22.0</td>\n",
              "      <td>1.15</td>\n",
              "      <td>11.800000</td>\n",
              "      <td>14.300000</td>\n",
              "      <td>45.799999</td>\n",
              "      <td>59.000000</td>\n",
              "      <td>49.000000</td>\n",
              "      <td>60.000000</td>\n",
              "      <td>11.602107</td>\n",
              "      <td>0.470000</td>\n",
              "      <td>13.600000</td>\n",
              "      <td>27.500000</td>\n",
              "      <td>1.1</td>\n",
              "      <td>315.000000</td>\n",
              "      <td>0</td>\n",
              "    </tr>\n",
              "    <tr>\n",
              "      <th>879</th>\n",
              "      <td>37.000000</td>\n",
              "      <td>72.0</td>\n",
              "      <td>20.000000</td>\n",
              "      <td>154.0</td>\n",
              "      <td>7.330000</td>\n",
              "      <td>16.0</td>\n",
              "      <td>0.93</td>\n",
              "      <td>24.000000</td>\n",
              "      <td>16.400000</td>\n",
              "      <td>48.099998</td>\n",
              "      <td>73.000000</td>\n",
              "      <td>32.000000</td>\n",
              "      <td>78.000000</td>\n",
              "      <td>18.141694</td>\n",
              "      <td>8.480000</td>\n",
              "      <td>13.200000</td>\n",
              "      <td>22.900000</td>\n",
              "      <td>1.0</td>\n",
              "      <td>359.000000</td>\n",
              "      <td>0</td>\n",
              "    </tr>\n",
              "    <tr>\n",
              "      <th>319</th>\n",
              "      <td>36.099998</td>\n",
              "      <td>87.0</td>\n",
              "      <td>19.000000</td>\n",
              "      <td>127.0</td>\n",
              "      <td>7.320000</td>\n",
              "      <td>22.0</td>\n",
              "      <td>0.89</td>\n",
              "      <td>11.200000</td>\n",
              "      <td>14.600000</td>\n",
              "      <td>40.500000</td>\n",
              "      <td>96.000000</td>\n",
              "      <td>47.000000</td>\n",
              "      <td>88.000000</td>\n",
              "      <td>17.360314</td>\n",
              "      <td>4.580000</td>\n",
              "      <td>13.200000</td>\n",
              "      <td>29.000000</td>\n",
              "      <td>1.1</td>\n",
              "      <td>196.000000</td>\n",
              "      <td>0</td>\n",
              "    </tr>\n",
              "    <tr>\n",
              "      <th>1128</th>\n",
              "      <td>36.977118</td>\n",
              "      <td>80.0</td>\n",
              "      <td>22.000000</td>\n",
              "      <td>117.0</td>\n",
              "      <td>7.420000</td>\n",
              "      <td>16.0</td>\n",
              "      <td>0.79</td>\n",
              "      <td>10.300000</td>\n",
              "      <td>14.600000</td>\n",
              "      <td>43.299999</td>\n",
              "      <td>77.933403</td>\n",
              "      <td>53.529777</td>\n",
              "      <td>79.870080</td>\n",
              "      <td>13.251646</td>\n",
              "      <td>2.709103</td>\n",
              "      <td>11.700000</td>\n",
              "      <td>24.500000</td>\n",
              "      <td>0.9</td>\n",
              "      <td>286.000000</td>\n",
              "      <td>0</td>\n",
              "    </tr>\n",
              "    <tr>\n",
              "      <th>58</th>\n",
              "      <td>36.500000</td>\n",
              "      <td>66.0</td>\n",
              "      <td>16.000000</td>\n",
              "      <td>130.0</td>\n",
              "      <td>7.360000</td>\n",
              "      <td>23.0</td>\n",
              "      <td>1.14</td>\n",
              "      <td>10.800000</td>\n",
              "      <td>12.800000</td>\n",
              "      <td>38.200001</td>\n",
              "      <td>64.000000</td>\n",
              "      <td>72.000000</td>\n",
              "      <td>89.000000</td>\n",
              "      <td>11.600000</td>\n",
              "      <td>0.100000</td>\n",
              "      <td>13.700000</td>\n",
              "      <td>29.400000</td>\n",
              "      <td>1.0</td>\n",
              "      <td>213.000000</td>\n",
              "      <td>0</td>\n",
              "    </tr>\n",
              "    <tr>\n",
              "      <th>...</th>\n",
              "      <td>...</td>\n",
              "      <td>...</td>\n",
              "      <td>...</td>\n",
              "      <td>...</td>\n",
              "      <td>...</td>\n",
              "      <td>...</td>\n",
              "      <td>...</td>\n",
              "      <td>...</td>\n",
              "      <td>...</td>\n",
              "      <td>...</td>\n",
              "      <td>...</td>\n",
              "      <td>...</td>\n",
              "      <td>...</td>\n",
              "      <td>...</td>\n",
              "      <td>...</td>\n",
              "      <td>...</td>\n",
              "      <td>...</td>\n",
              "      <td>...</td>\n",
              "      <td>...</td>\n",
              "      <td>...</td>\n",
              "    </tr>\n",
              "    <tr>\n",
              "      <th>763</th>\n",
              "      <td>36.748248</td>\n",
              "      <td>145.0</td>\n",
              "      <td>28.000000</td>\n",
              "      <td>153.0</td>\n",
              "      <td>7.200000</td>\n",
              "      <td>12.0</td>\n",
              "      <td>1.04</td>\n",
              "      <td>18.200001</td>\n",
              "      <td>10.500000</td>\n",
              "      <td>31.799999</td>\n",
              "      <td>57.000000</td>\n",
              "      <td>17.000000</td>\n",
              "      <td>53.000000</td>\n",
              "      <td>17.685015</td>\n",
              "      <td>10.950000</td>\n",
              "      <td>17.000000</td>\n",
              "      <td>39.500000</td>\n",
              "      <td>1.4</td>\n",
              "      <td>238.000000</td>\n",
              "      <td>0</td>\n",
              "    </tr>\n",
              "    <tr>\n",
              "      <th>835</th>\n",
              "      <td>36.739322</td>\n",
              "      <td>50.0</td>\n",
              "      <td>17.453979</td>\n",
              "      <td>105.0</td>\n",
              "      <td>7.310000</td>\n",
              "      <td>10.0</td>\n",
              "      <td>0.71</td>\n",
              "      <td>8.700000</td>\n",
              "      <td>15.500000</td>\n",
              "      <td>42.900002</td>\n",
              "      <td>74.000000</td>\n",
              "      <td>79.000000</td>\n",
              "      <td>83.000000</td>\n",
              "      <td>11.550689</td>\n",
              "      <td>4.040000</td>\n",
              "      <td>12.300000</td>\n",
              "      <td>32.000000</td>\n",
              "      <td>0.9</td>\n",
              "      <td>216.000000</td>\n",
              "      <td>0</td>\n",
              "    </tr>\n",
              "    <tr>\n",
              "      <th>1216</th>\n",
              "      <td>36.599998</td>\n",
              "      <td>120.0</td>\n",
              "      <td>21.000000</td>\n",
              "      <td>105.0</td>\n",
              "      <td>7.220000</td>\n",
              "      <td>42.0</td>\n",
              "      <td>1.83</td>\n",
              "      <td>16.799999</td>\n",
              "      <td>13.700000</td>\n",
              "      <td>41.000000</td>\n",
              "      <td>54.041684</td>\n",
              "      <td>26.701475</td>\n",
              "      <td>58.229739</td>\n",
              "      <td>36.514264</td>\n",
              "      <td>10.235785</td>\n",
              "      <td>19.200001</td>\n",
              "      <td>71.300003</td>\n",
              "      <td>1.5</td>\n",
              "      <td>234.000000</td>\n",
              "      <td>1</td>\n",
              "    </tr>\n",
              "    <tr>\n",
              "      <th>559</th>\n",
              "      <td>37.200001</td>\n",
              "      <td>104.0</td>\n",
              "      <td>17.000000</td>\n",
              "      <td>134.0</td>\n",
              "      <td>7.312862</td>\n",
              "      <td>8.0</td>\n",
              "      <td>0.79</td>\n",
              "      <td>11.600000</td>\n",
              "      <td>13.500000</td>\n",
              "      <td>42.099998</td>\n",
              "      <td>81.179778</td>\n",
              "      <td>54.104003</td>\n",
              "      <td>83.967302</td>\n",
              "      <td>13.939033</td>\n",
              "      <td>1.479064</td>\n",
              "      <td>13.500000</td>\n",
              "      <td>28.100000</td>\n",
              "      <td>1.1</td>\n",
              "      <td>433.000000</td>\n",
              "      <td>0</td>\n",
              "    </tr>\n",
              "    <tr>\n",
              "      <th>684</th>\n",
              "      <td>36.400002</td>\n",
              "      <td>100.0</td>\n",
              "      <td>20.000000</td>\n",
              "      <td>89.0</td>\n",
              "      <td>7.310000</td>\n",
              "      <td>11.0</td>\n",
              "      <td>0.77</td>\n",
              "      <td>10.401411</td>\n",
              "      <td>10.407787</td>\n",
              "      <td>31.977188</td>\n",
              "      <td>12.000000</td>\n",
              "      <td>23.000000</td>\n",
              "      <td>18.000000</td>\n",
              "      <td>10.953434</td>\n",
              "      <td>6.850000</td>\n",
              "      <td>22.799999</td>\n",
              "      <td>40.799999</td>\n",
              "      <td>2.2</td>\n",
              "      <td>226.923884</td>\n",
              "      <td>0</td>\n",
              "    </tr>\n",
              "  </tbody>\n",
              "</table>\n",
              "<p>1187 rows × 20 columns</p>\n",
              "</div>"
            ],
            "text/plain": [
              "       hr0_temp  hr0_hr  hr0_resprate  ...  hr0_inr    hr0_plts  Mortality\n",
              "481   37.000000    91.0     18.000000  ...      1.1  315.000000          0\n",
              "879   37.000000    72.0     20.000000  ...      1.0  359.000000          0\n",
              "319   36.099998    87.0     19.000000  ...      1.1  196.000000          0\n",
              "1128  36.977118    80.0     22.000000  ...      0.9  286.000000          0\n",
              "58    36.500000    66.0     16.000000  ...      1.0  213.000000          0\n",
              "...         ...     ...           ...  ...      ...         ...        ...\n",
              "763   36.748248   145.0     28.000000  ...      1.4  238.000000          0\n",
              "835   36.739322    50.0     17.453979  ...      0.9  216.000000          0\n",
              "1216  36.599998   120.0     21.000000  ...      1.5  234.000000          1\n",
              "559   37.200001   104.0     17.000000  ...      1.1  433.000000          0\n",
              "684   36.400002   100.0     20.000000  ...      2.2  226.923884          0\n",
              "\n",
              "[1187 rows x 20 columns]"
            ]
          },
          "metadata": {
            "tags": []
          },
          "execution_count": 29
        }
      ]
    },
    {
      "cell_type": "code",
      "metadata": {
        "id": "K6r7Uq-eHjHV"
      },
      "source": [
        "#Try standardize x\\in[0, 1]\n",
        "\n",
        "\n",
        "# x = hr0_virtual_data.values #returns a numpy array\n",
        "# min_max_scaler = MinMaxScaler()\n",
        "# x_scaled = min_max_scaler.fit_transform(x)\n",
        "# df_v = pd.DataFrame(x_scaled)\n",
        "# df_v.columns = trauma_data.columns\n",
        "\n",
        "# xx = data_real.values #returns a numpy array\n",
        "# min_max_scaler_1 = MinMaxScaler()\n",
        "# x_scaled = min_max_scaler.fit_transform(x)\n",
        "# df_r = pd.DataFrame(x_scaled)\n",
        "# df_r.columns = trauma_data.columns\n",
        "\n",
        "# df_v['Type'] = 'Virtual'\n",
        "# df_r['Type'] = 'Real'\n",
        "\n",
        "# cdf = pd.concat([df_v, df_r])\n",
        "\n",
        "# fig, axs = plt.subplots(2,3, figsize=(15, 10))\n",
        "\n",
        "# for i, feature in enumerate(Interest_features):\n",
        "#   sns.boxplot(x='Type', y=feature, data=cdf, orient='v', ax=axs[i//3][i%3])\n",
        "# fig.suptitle('Real vs. Virtual Patients (Gaussian Discriminant Analysis)')\n",
        "# fig.tight_layout(pad=8)\n",
        "# # fig.savefig('gdrive/MyDrive/GDA_seaborn_vis.png')\n",
        "# plt.show()\n",
        "\n",
        "\n",
        "# hr0_virtual_data = df_v"
      ],
      "execution_count": null,
      "outputs": []
    },
    {
      "cell_type": "code",
      "metadata": {
        "id": "hWRZZork31kj"
      },
      "source": [
        "for i, feature in enumerate(hr0_virtual_data.drop(columns='Mortality').columns):\n",
        "  m = hr0_virtual_data[feature].mean()\n",
        "  hr0_virtual_data.sort_values(by=feature, inplace=True)\n",
        "  hr0_virtual_data.reset_index(drop=True, inplace=True)\n",
        "  for j, num in enumerate(hr0_virtual_data[feature]):\n",
        "    if num >= 0:\n",
        "      break\n",
        "    elif num < 0:\n",
        "      hr0_virtual_data.iloc[j, i] -= num\n",
        "      hr0_virtual_data.iloc[-j-1, i] += num"
      ],
      "execution_count": null,
      "outputs": []
    },
    {
      "cell_type": "code",
      "metadata": {
        "colab": {
          "base_uri": "https://localhost:8080/"
        },
        "id": "C0Rh56IS9RuP",
        "outputId": "56f44ea7-677e-42cb-d8ee-e4eba305505c"
      },
      "source": [
        "# hr0_virtual_data.sort_values(by='hr0_temp', inplace=True)\n",
        "# hr0_virtual_data.reset_index(drop=True, inplace=True)\n",
        "# hr0_virtual_data.iloc[-1, 0]"
      ],
      "execution_count": null,
      "outputs": [
        {
          "output_type": "execute_result",
          "data": {
            "text/plain": [
              "149.88777170991602"
            ]
          },
          "metadata": {
            "tags": []
          },
          "execution_count": 106
        }
      ]
    },
    {
      "cell_type": "code",
      "metadata": {
        "colab": {
          "base_uri": "https://localhost:8080/",
          "height": 317
        },
        "id": "774ObaM6MrnR",
        "outputId": "55e92abe-f4bd-4a0f-f0bc-3bac24c4b611"
      },
      "source": [
        "hr0_virtual_data.describe()"
      ],
      "execution_count": null,
      "outputs": [
        {
          "output_type": "execute_result",
          "data": {
            "text/html": [
              "<div>\n",
              "<style scoped>\n",
              "    .dataframe tbody tr th:only-of-type {\n",
              "        vertical-align: middle;\n",
              "    }\n",
              "\n",
              "    .dataframe tbody tr th {\n",
              "        vertical-align: top;\n",
              "    }\n",
              "\n",
              "    .dataframe thead th {\n",
              "        text-align: right;\n",
              "    }\n",
              "</style>\n",
              "<table border=\"1\" class=\"dataframe\">\n",
              "  <thead>\n",
              "    <tr style=\"text-align: right;\">\n",
              "      <th></th>\n",
              "      <th>hr0_temp</th>\n",
              "      <th>hr0_hr</th>\n",
              "      <th>hr0_resprate</th>\n",
              "      <th>hr0_sbp</th>\n",
              "      <th>hr0_ph</th>\n",
              "      <th>hr0_bun</th>\n",
              "      <th>hr0_creatinine</th>\n",
              "      <th>hr0_wbc</th>\n",
              "      <th>hr0_hgb</th>\n",
              "      <th>hr0_hct</th>\n",
              "      <th>hr0_factorii</th>\n",
              "      <th>hr0_factorv</th>\n",
              "      <th>hr0_factorx</th>\n",
              "      <th>hr0_tfpi</th>\n",
              "      <th>hr0_ddimer</th>\n",
              "      <th>hr0_pt</th>\n",
              "      <th>hr0_ptt</th>\n",
              "      <th>hr0_inr</th>\n",
              "      <th>hr0_plts</th>\n",
              "      <th>Mortality</th>\n",
              "    </tr>\n",
              "  </thead>\n",
              "  <tbody>\n",
              "    <tr>\n",
              "      <th>count</th>\n",
              "      <td>200000.000000</td>\n",
              "      <td>200000.000000</td>\n",
              "      <td>200000.000000</td>\n",
              "      <td>200000.000000</td>\n",
              "      <td>200000.000000</td>\n",
              "      <td>200000.000000</td>\n",
              "      <td>200000.000000</td>\n",
              "      <td>200000.000000</td>\n",
              "      <td>200000.000000</td>\n",
              "      <td>200000.000000</td>\n",
              "      <td>200000.000000</td>\n",
              "      <td>200000.000000</td>\n",
              "      <td>200000.000000</td>\n",
              "      <td>200000.000000</td>\n",
              "      <td>200000.000000</td>\n",
              "      <td>200000.000000</td>\n",
              "      <td>200000.000000</td>\n",
              "      <td>200000.000000</td>\n",
              "      <td>200000.000000</td>\n",
              "      <td>200000.000000</td>\n",
              "    </tr>\n",
              "    <tr>\n",
              "      <th>mean</th>\n",
              "      <td>35.870101</td>\n",
              "      <td>98.843941</td>\n",
              "      <td>20.073080</td>\n",
              "      <td>138.186648</td>\n",
              "      <td>7.276136</td>\n",
              "      <td>17.034615</td>\n",
              "      <td>1.101920</td>\n",
              "      <td>11.093166</td>\n",
              "      <td>13.242655</td>\n",
              "      <td>39.759302</td>\n",
              "      <td>68.587790</td>\n",
              "      <td>45.098540</td>\n",
              "      <td>70.441048</td>\n",
              "      <td>21.371351</td>\n",
              "      <td>6.878316</td>\n",
              "      <td>16.589604</td>\n",
              "      <td>35.797382</td>\n",
              "      <td>1.420836</td>\n",
              "      <td>258.082997</td>\n",
              "      <td>0.500000</td>\n",
              "    </tr>\n",
              "    <tr>\n",
              "      <th>std</th>\n",
              "      <td>0.971039</td>\n",
              "      <td>24.777473</td>\n",
              "      <td>6.338909</td>\n",
              "      <td>32.342058</td>\n",
              "      <td>0.121074</td>\n",
              "      <td>8.602722</td>\n",
              "      <td>0.645000</td>\n",
              "      <td>4.886358</td>\n",
              "      <td>2.065580</td>\n",
              "      <td>5.857039</td>\n",
              "      <td>18.890743</td>\n",
              "      <td>22.325415</td>\n",
              "      <td>21.439497</td>\n",
              "      <td>9.743218</td>\n",
              "      <td>5.151677</td>\n",
              "      <td>6.009938</td>\n",
              "      <td>14.553751</td>\n",
              "      <td>0.725916</td>\n",
              "      <td>85.844224</td>\n",
              "      <td>0.500001</td>\n",
              "    </tr>\n",
              "    <tr>\n",
              "      <th>min</th>\n",
              "      <td>31.332491</td>\n",
              "      <td>0.000000</td>\n",
              "      <td>0.000000</td>\n",
              "      <td>0.000000</td>\n",
              "      <td>6.730928</td>\n",
              "      <td>0.000000</td>\n",
              "      <td>0.000000</td>\n",
              "      <td>0.000000</td>\n",
              "      <td>4.275403</td>\n",
              "      <td>14.206641</td>\n",
              "      <td>0.000000</td>\n",
              "      <td>0.000000</td>\n",
              "      <td>0.000000</td>\n",
              "      <td>0.000000</td>\n",
              "      <td>0.000000</td>\n",
              "      <td>0.000000</td>\n",
              "      <td>0.000000</td>\n",
              "      <td>0.000000</td>\n",
              "      <td>0.000000</td>\n",
              "      <td>0.000000</td>\n",
              "    </tr>\n",
              "    <tr>\n",
              "      <th>25%</th>\n",
              "      <td>35.208109</td>\n",
              "      <td>82.219131</td>\n",
              "      <td>15.804141</td>\n",
              "      <td>116.333851</td>\n",
              "      <td>7.194112</td>\n",
              "      <td>10.900210</td>\n",
              "      <td>0.609695</td>\n",
              "      <td>7.724882</td>\n",
              "      <td>11.844980</td>\n",
              "      <td>35.804205</td>\n",
              "      <td>55.843384</td>\n",
              "      <td>29.213401</td>\n",
              "      <td>55.907759</td>\n",
              "      <td>13.327458</td>\n",
              "      <td>1.670158</td>\n",
              "      <td>12.478900</td>\n",
              "      <td>25.711787</td>\n",
              "      <td>0.899230</td>\n",
              "      <td>199.761069</td>\n",
              "      <td>0.000000</td>\n",
              "    </tr>\n",
              "    <tr>\n",
              "      <th>50%</th>\n",
              "      <td>35.871264</td>\n",
              "      <td>98.829477</td>\n",
              "      <td>20.061259</td>\n",
              "      <td>138.150116</td>\n",
              "      <td>7.276401</td>\n",
              "      <td>17.036864</td>\n",
              "      <td>1.101274</td>\n",
              "      <td>11.090823</td>\n",
              "      <td>13.250375</td>\n",
              "      <td>39.780795</td>\n",
              "      <td>68.585227</td>\n",
              "      <td>45.072114</td>\n",
              "      <td>70.454484</td>\n",
              "      <td>21.376295</td>\n",
              "      <td>6.875554</td>\n",
              "      <td>16.598415</td>\n",
              "      <td>35.813414</td>\n",
              "      <td>1.421667</td>\n",
              "      <td>258.093191</td>\n",
              "      <td>0.500000</td>\n",
              "    </tr>\n",
              "    <tr>\n",
              "      <th>75%</th>\n",
              "      <td>36.535365</td>\n",
              "      <td>115.550282</td>\n",
              "      <td>24.347958</td>\n",
              "      <td>160.019280</td>\n",
              "      <td>7.357950</td>\n",
              "      <td>23.181531</td>\n",
              "      <td>1.593285</td>\n",
              "      <td>14.456107</td>\n",
              "      <td>14.644815</td>\n",
              "      <td>43.721879</td>\n",
              "      <td>81.358662</td>\n",
              "      <td>61.007579</td>\n",
              "      <td>85.012435</td>\n",
              "      <td>29.413907</td>\n",
              "      <td>12.079969</td>\n",
              "      <td>20.695017</td>\n",
              "      <td>45.948309</td>\n",
              "      <td>1.942709</td>\n",
              "      <td>316.123835</td>\n",
              "      <td>1.000000</td>\n",
              "    </tr>\n",
              "    <tr>\n",
              "      <th>max</th>\n",
              "      <td>39.796601</td>\n",
              "      <td>197.223196</td>\n",
              "      <td>42.007452</td>\n",
              "      <td>280.668003</td>\n",
              "      <td>7.882969</td>\n",
              "      <td>35.728800</td>\n",
              "      <td>2.427128</td>\n",
              "      <td>22.563478</td>\n",
              "      <td>22.212965</td>\n",
              "      <td>68.154034</td>\n",
              "      <td>143.519994</td>\n",
              "      <td>91.792150</td>\n",
              "      <td>140.744427</td>\n",
              "      <td>43.614514</td>\n",
              "      <td>13.844722</td>\n",
              "      <td>35.771197</td>\n",
              "      <td>74.122035</td>\n",
              "      <td>3.055905</td>\n",
              "      <td>524.397245</td>\n",
              "      <td>1.000000</td>\n",
              "    </tr>\n",
              "  </tbody>\n",
              "</table>\n",
              "</div>"
            ],
            "text/plain": [
              "            hr0_temp         hr0_hr  ...       hr0_plts      Mortality\n",
              "count  200000.000000  200000.000000  ...  200000.000000  200000.000000\n",
              "mean       35.870101      98.843941  ...     258.082997       0.500000\n",
              "std         0.971039      24.777473  ...      85.844224       0.500001\n",
              "min        31.332491       0.000000  ...       0.000000       0.000000\n",
              "25%        35.208109      82.219131  ...     199.761069       0.000000\n",
              "50%        35.871264      98.829477  ...     258.093191       0.500000\n",
              "75%        36.535365     115.550282  ...     316.123835       1.000000\n",
              "max        39.796601     197.223196  ...     524.397245       1.000000\n",
              "\n",
              "[8 rows x 20 columns]"
            ]
          },
          "metadata": {
            "tags": []
          },
          "execution_count": 115
        }
      ]
    },
    {
      "cell_type": "markdown",
      "metadata": {
        "id": "n3Z8ODlSf5pj"
      },
      "source": [
        "**visualize and compare each variable distribution of VAE-generated patients**"
      ]
    },
    {
      "cell_type": "code",
      "metadata": {
        "colab": {
          "base_uri": "https://localhost:8080/",
          "height": 656
        },
        "id": "so_n-LUIf_KI",
        "outputId": "32a19a96-7bd7-49f4-dc4d-311fc995abf2"
      },
      "source": [
        "hr0_virtual_data['Type'] = 'Virtual'\n",
        "cdf = pd.concat([hr0_virtual_data, data_real])\n",
        "\n",
        "fig, axs = plt.subplots(2,3, figsize=(15, 10))\n",
        "\n",
        "for i, feature in enumerate(Interest_features):\n",
        "  sns.boxplot(x='Type', y=feature, data=cdf, orient='v', ax=axs[i//3][i%3])\n",
        "fig.suptitle('Real vs. Virtual Patients (Gaussian Discriminant Analysis)')\n",
        "fig.tight_layout(pad=8)\n",
        "fig.savefig('gdrive/MyDrive/GDA_seaborn_vis.png')\n",
        "plt.show()"
      ],
      "execution_count": null,
      "outputs": [
        {
          "output_type": "display_data",
          "data": {
            "image/png": "[encoded data removed]",
            "text/plain": [
              "<Figure size 1080x720 with 6 Axes>"
            ]
          },
          "metadata": {
            "tags": [],
            "needs_background": "light"
          }
        }
      ]
    },
    {
      "cell_type": "code",
      "metadata": {
        "id": "LFgMDWRHhXww"
      },
      "source": [
        "hr0_virtual_data.drop(columns='Type', inplace=True)"
      ],
      "execution_count": null,
      "outputs": []
    },
    {
      "cell_type": "code",
      "metadata": {
        "id": "XcrV6GuMmEy9"
      },
      "source": [
        "def gda_result(X_train, y_train, X_test, y_test):\n",
        "  gda = GDA(X_train, y_train)\n",
        "  gda.fit()\n",
        "  y_pred = gda.predict(X_test)\n",
        "  acc_vir_ba_gcd = accuracy_score(y_test, y_pred)\n",
        "  print(f'mean accuracy is {acc_vir_ba_gcd * 100}')\n",
        "  print(confusion_matrix(y_test, y_pred))\n",
        "\n",
        "  print('auc score: ', roc_auc_score(y_test, gda.predict_prob(X_test)[1]))"
      ],
      "execution_count": null,
      "outputs": []
    },
    {
      "cell_type": "code",
      "metadata": {
        "colab": {
          "base_uri": "https://localhost:8080/"
        },
        "id": "FcVaZLQIafHO",
        "outputId": "0bc4b858-6b68-462c-f9ed-48344b9e232f"
      },
      "source": [
        "# GDA train on virtual data test on real data (GDA generated)\n",
        "X_train = hr0_virtual_data.drop(columns='Mortality')\n",
        "y_train = hr0_virtual_data.Mortality\n",
        "X_test = original_df.drop(columns='Mortality')\n",
        "y_test = original_df.Mortality\n",
        "gda_result(X_train, y_train, X_test, y_test)"
      ],
      "execution_count": null,
      "outputs": [
        {
          "output_type": "stream",
          "text": [
            "mean accuracy is 96.63072776280323\n",
            "[[1185   28]\n",
            " [  22  249]]\n",
            "auc score:  0.6955978133565341\n"
          ],
          "name": "stdout"
        }
      ]
    },
    {
      "cell_type": "code",
      "metadata": {
        "colab": {
          "base_uri": "https://localhost:8080/"
        },
        "id": "-9rNfdw1NIxl",
        "outputId": "7ff39d21-5444-4e69-bf59-41b399a58a9d"
      },
      "source": [
        "y_train.value_counts()"
      ],
      "execution_count": null,
      "outputs": [
        {
          "output_type": "execute_result",
          "data": {
            "text/plain": [
              "1    100000\n",
              "0    100000\n",
              "Name: Mortality, dtype: int64"
            ]
          },
          "metadata": {
            "tags": []
          },
          "execution_count": 121
        }
      ]
    },
    {
      "cell_type": "code",
      "metadata": {
        "colab": {
          "base_uri": "https://localhost:8080/"
        },
        "id": "DAD3Ht5AjvCt",
        "outputId": "4f853516-0677-4efe-c230-dac4d7ada648"
      },
      "source": [
        "# GDA train on real+virtual data test on real data (GDA generated)\n",
        "X_train = pd.concat([hr0_virtual_data.drop(columns='Mortality'), trauma_data.drop(columns='Mortality')])\n",
        "y_train = pd.concat([hr0_virtual_data.Mortality, trauma_data.Mortality])\n",
        "X_test = final_test_set.drop(columns='Mortality')\n",
        "y_test = final_test_set.Mortality\n",
        "gda_result(X_train, y_train, X_test, y_test)"
      ],
      "execution_count": null,
      "outputs": [
        {
          "output_type": "stream",
          "text": [
            "mean accuracy is 95.28619528619528\n",
            "[[233   9]\n",
            " [  5  50]]\n",
            "auc score:  0.7498121712997745\n"
          ],
          "name": "stdout"
        }
      ]
    },
    {
      "cell_type": "code",
      "metadata": {
        "colab": {
          "base_uri": "https://localhost:8080/"
        },
        "id": "qBUwkD10jrq6",
        "outputId": "d4a218a0-3729-4cef-e5fa-dbe912f9b750"
      },
      "source": [
        "# GDA train on virtual data and test on real data (VAE generated)\n",
        "X_train = pd.concat([result_0.drop(columns='Mortality'), result_1.drop(columns='Mortality')])\n",
        "y_train = pd.concat([result_0.Mortality, result_1.Mortality])\n",
        "X_test = original_df.drop(columns='Mortality')\n",
        "y_test = original_df.Mortality\n",
        "gda_result(X_train, y_train, X_test, y_test)"
      ],
      "execution_count": null,
      "outputs": [
        {
          "output_type": "stream",
          "text": [
            "mean accuracy is 81.73854447439352\n",
            "[[1213    0]\n",
            " [ 271    0]]\n",
            "auc score:  0.5\n"
          ],
          "name": "stdout"
        }
      ]
    },
    {
      "cell_type": "code",
      "metadata": {
        "colab": {
          "base_uri": "https://localhost:8080/"
        },
        "id": "ovU0iRFYbW9a",
        "outputId": "1b115ef8-a4fb-4f28-de54-e4dcc31238c5"
      },
      "source": [
        "# GDA train on real+virtual data test on real data (VAE generated)\n",
        "X_train = pd.concat([result_0.drop(columns='Mortality'), result_1.drop(columns='Mortality'), trauma_data.drop(columns='Mortality')])\n",
        "y_train = pd.concat([result_0.Mortality, result_1.Mortality, trauma_data.Mortality])\n",
        "X_test = final_test_set.drop(columns='Mortality')\n",
        "y_test = final_test_set.Mortality\n",
        "gda_result(X_train, y_train, X_test, y_test)"
      ],
      "execution_count": null,
      "outputs": [
        {
          "output_type": "stream",
          "text": [
            "mean accuracy is 88.21548821548821\n",
            "[[232  10]\n",
            " [ 25  30]]\n",
            "auc score:  0.49962434259954913\n"
          ],
          "name": "stdout"
        }
      ]
    },
    {
      "cell_type": "code",
      "metadata": {
        "colab": {
          "base_uri": "https://localhost:8080/",
          "height": 232
        },
        "id": "07OwqhjcDL9f",
        "outputId": "af732698-1595-4404-e682-d2a029f9112d"
      },
      "source": [
        "for feature in Interest_features:\n",
        "\n",
        "  dis1 = data_real[feature].describe()\n",
        "  dis2 = hr0_virtual_data[feature].describe()\n",
        "\n",
        "  data = np.hstack([dis1.values, dis2.values])\n",
        "  table = pd.DataFrame(index=['real', 'virtual'], columns=dis1.index, data=data.reshape(2, 8))\n",
        "  table.columns.name = feature\n",
        "  print(table[desire_stat].to_markdown())\n",
        "  print('\\n\\n')"
      ],
      "execution_count": null,
      "outputs": [
        {
          "output_type": "error",
          "ename": "NameError",
          "evalue": "ignored",
          "traceback": [
            "\u001b[0;31m---------------------------------------------------------------------------\u001b[0m",
            "\u001b[0;31mNameError\u001b[0m                                 Traceback (most recent call last)",
            "\u001b[0;32m<ipython-input-1-c2b77d46621c>\u001b[0m in \u001b[0;36m<module>\u001b[0;34m()\u001b[0m\n\u001b[0;32m----> 1\u001b[0;31m \u001b[0;32mfor\u001b[0m \u001b[0mfeature\u001b[0m \u001b[0;32min\u001b[0m \u001b[0mInterest_features\u001b[0m\u001b[0;34m:\u001b[0m\u001b[0;34m\u001b[0m\u001b[0;34m\u001b[0m\u001b[0m\n\u001b[0m\u001b[1;32m      2\u001b[0m \u001b[0;34m\u001b[0m\u001b[0m\n\u001b[1;32m      3\u001b[0m   \u001b[0mdis1\u001b[0m \u001b[0;34m=\u001b[0m \u001b[0mdata_real\u001b[0m\u001b[0;34m[\u001b[0m\u001b[0mfeature\u001b[0m\u001b[0;34m]\u001b[0m\u001b[0;34m.\u001b[0m\u001b[0mdescribe\u001b[0m\u001b[0;34m(\u001b[0m\u001b[0;34m)\u001b[0m\u001b[0;34m\u001b[0m\u001b[0;34m\u001b[0m\u001b[0m\n\u001b[1;32m      4\u001b[0m   \u001b[0mdis2\u001b[0m \u001b[0;34m=\u001b[0m \u001b[0mhr0_virtual_data\u001b[0m\u001b[0;34m[\u001b[0m\u001b[0mfeature\u001b[0m\u001b[0;34m]\u001b[0m\u001b[0;34m.\u001b[0m\u001b[0mdescribe\u001b[0m\u001b[0;34m(\u001b[0m\u001b[0;34m)\u001b[0m\u001b[0;34m\u001b[0m\u001b[0;34m\u001b[0m\u001b[0m\n\u001b[1;32m      5\u001b[0m \u001b[0;34m\u001b[0m\u001b[0m\n",
            "\u001b[0;31mNameError\u001b[0m: name 'Interest_features' is not defined"
          ]
        }
      ]
    },
    {
      "cell_type": "markdown",
      "metadata": {
        "id": "yJyKRW7HD-7A"
      },
      "source": [
        "|         |    mean |      std |      25% |     50% |     75% |\n",
        "|:--------|--------:|---------:|---------:|--------:|--------:|\n",
        "| real    | 1.03964 | 0.725248 | 0.8      | 0.95    | 1.14    |\n",
        "| virtual | 1.10192 | 0.645    | 0.609695 | 1.10127 | 1.59329 |\n",
        "\n",
        "\n",
        "\n",
        "|         |    mean |     std |     25% |     50% |     75% |\n",
        "|:--------|--------:|--------:|--------:|--------:|--------:|\n",
        "| real    | 10.6087 | 4.9821  | 7.4     |  9.6    | 12.8    |\n",
        "| virtual | 11.0932 | 4.88636 | 7.72488 | 11.0908 | 14.4561 |\n",
        "\n",
        "\n",
        "\n",
        "|         |    mean |     std |     25% |     50% |    75% |\n",
        "|:--------|--------:|--------:|--------:|--------:|-------:|\n",
        "| real    | 4.53939 | 7.22526 | 0.735   | 2.60323 |  6.055 |\n",
        "| virtual | 6.87832 | 5.15168 | 1.67016 | 6.87555 | 12.08  |\n",
        "\n",
        "\n",
        "\n",
        "|         |    mean |     std |     25% |     50% |     75% |\n",
        "|:--------|--------:|--------:|--------:|--------:|--------:|\n",
        "| real    | 272.821 | 84.7272 | 220     | 269     | 320.066 |\n",
        "| virtual | 258.083 | 85.8442 | 199.761 | 258.093 | 316.124 |\n",
        "\n",
        "\n",
        "\n",
        "|         |    mean |     std |     25% |     50% |    75% |\n",
        "|:--------|--------:|--------:|--------:|--------:|-------:|\n",
        "| real    | 15.0198 | 5.83068 | 13.2    | 13.9    | 15     |\n",
        "| virtual | 16.5896 | 6.00994 | 12.4789 | 16.5984 | 20.695 |\n",
        "\n",
        "\n",
        "\n",
        "|         |    mean |      std |     25% |     50% |     75% |\n",
        "|:--------|--------:|---------:|--------:|--------:|--------:|\n",
        "| real    | 36.1544 | 0.92899  | 35.6    | 36.3274 | 36.8    |\n",
        "| virtual | 35.8701 | 0.971039 | 35.2081 | 35.8713 | 36.5354 |"
      ]
    },
    {
      "cell_type": "code",
      "metadata": {
        "id": "wufL8oUL5iuq"
      },
      "source": [
        "results_1[2].hist(bins=20, figsize=(15,8))"
      ],
      "execution_count": null,
      "outputs": []
    },
    {
      "cell_type": "code",
      "metadata": {
        "id": "wWsRs0av5qbM"
      },
      "source": [
        "df_class_1.hist(bins=20, figsize=(20,10))"
      ],
      "execution_count": null,
      "outputs": []
    },
    {
      "cell_type": "markdown",
      "metadata": {
        "id": "8XBWH8PY_n0V"
      },
      "source": [
        "**Use Lasso logistic regression to test with virtual patients (GDA and VAE)**"
      ]
    },
    {
      "cell_type": "code",
      "metadata": {
        "colab": {
          "base_uri": "https://localhost:8080/",
          "height": 130
        },
        "id": "FrhDqKMU_zrB",
        "outputId": "a0ef43a7-3e2b-451c-caab-2081087c5270"
      },
      "source": [
        "from sklearn.linear_model import Lasso\n",
        "def lasso_result(X_train, y_train, X_test, y_test):\n",
        "\n",
        "  lasso001 = Lasso(alpha=0.01, max_iter=100000).fit(X_train, y_train) \n",
        "  y_pred = lasso001.predict(X_test)\n",
        "  m = y_pred.mean()\n",
        "  new_y_pred = []\n",
        "  for p in y_pred:\n",
        "    if p < m:\n",
        "      new_y_pred.append(0)\n",
        "    else:\n",
        "      new_y_pred.append(1)\n",
        "  y_pred = [0 for rst in y_pred if rst < m else 1]\n",
        "  acc_vir_ba_gcd = accuracy_score(y_test, y_pred)\n",
        "\n",
        "  \n",
        "  # print(\"Training set score: {:.2f}\".format(lasso001.score(X_train, y_train))) \n",
        "  # print(\"Test set score: {:.2f}\".format(lasso001.score(X_test, y_test))) \n",
        "  # print(\"Number of features used: {}\".format(np.sum(lasso001.coef_ != 0)))\n",
        "  print(f'mean accuracy is {acc_vir_ba_gcd * 100}')\n",
        "  print(confusion_matrix(y_test, y_pred))\n",
        "\n",
        "  # print('auc score: ', roc_auc_score(y_test, gda.predict_prob(X_test)[1]))"
      ],
      "execution_count": null,
      "outputs": [
        {
          "output_type": "error",
          "ename": "SyntaxError",
          "evalue": "ignored",
          "traceback": [
            "\u001b[0;36m  File \u001b[0;32m\"<ipython-input-49-a1fddc7fadf5>\"\u001b[0;36m, line \u001b[0;32m7\u001b[0m\n\u001b[0;31m    y_pred = [0 for rst in y_pred if rst < m else 1]\u001b[0m\n\u001b[0m                                                ^\u001b[0m\n\u001b[0;31mSyntaxError\u001b[0m\u001b[0;31m:\u001b[0m invalid syntax\n"
          ]
        }
      ]
    },
    {
      "cell_type": "code",
      "metadata": {
        "colab": {
          "base_uri": "https://localhost:8080/"
        },
        "id": "4n0i51prGGSI",
        "outputId": "930e4249-0490-44f5-d3ba-a1349ae5e456"
      },
      "source": [
        "X_train = trauma_data.drop(columns='Mortality')\n",
        "y_train = trauma_data.Mortality\n",
        "X_test = final_test_set.drop(columns='Mortality')\n",
        "y_test = final_test_set.Mortality\n",
        "lasso001 = Lasso(alpha=0.01, max_iter=100000).fit(X_train, y_train)\n",
        "lasso001.predict(X_test).mean()"
      ],
      "execution_count": null,
      "outputs": [
        {
          "output_type": "execute_result",
          "data": {
            "text/plain": [
              "0.19310456620214714"
            ]
          },
          "metadata": {
            "tags": []
          },
          "execution_count": 48
        }
      ]
    },
    {
      "cell_type": "code",
      "metadata": {
        "colab": {
          "base_uri": "https://localhost:8080/",
          "height": 341
        },
        "id": "GfeA_CopB1Bm",
        "outputId": "32c61e3f-b603-42e0-97ef-2c25a8a63920"
      },
      "source": [
        "# Lasso baseline on real\n",
        "X_train = trauma_data.drop(columns='Mortality')\n",
        "y_train = trauma_data.Mortality\n",
        "X_test = final_test_set.drop(columns='Mortality')\n",
        "y_test = final_test_set.Mortality\n",
        "lasso_result(X_train, y_train, X_test, y_test)"
      ],
      "execution_count": null,
      "outputs": [
        {
          "output_type": "error",
          "ename": "ValueError",
          "evalue": "ignored",
          "traceback": [
            "\u001b[0;31m---------------------------------------------------------------------------\u001b[0m",
            "\u001b[0;31mValueError\u001b[0m                                Traceback (most recent call last)",
            "\u001b[0;32m<ipython-input-46-e507600decae>\u001b[0m in \u001b[0;36m<module>\u001b[0;34m()\u001b[0m\n\u001b[1;32m      4\u001b[0m \u001b[0mX_test\u001b[0m \u001b[0;34m=\u001b[0m \u001b[0mfinal_test_set\u001b[0m\u001b[0;34m.\u001b[0m\u001b[0mdrop\u001b[0m\u001b[0;34m(\u001b[0m\u001b[0mcolumns\u001b[0m\u001b[0;34m=\u001b[0m\u001b[0;34m'Mortality'\u001b[0m\u001b[0;34m)\u001b[0m\u001b[0;34m\u001b[0m\u001b[0;34m\u001b[0m\u001b[0m\n\u001b[1;32m      5\u001b[0m \u001b[0my_test\u001b[0m \u001b[0;34m=\u001b[0m \u001b[0mfinal_test_set\u001b[0m\u001b[0;34m.\u001b[0m\u001b[0mMortality\u001b[0m\u001b[0;34m\u001b[0m\u001b[0;34m\u001b[0m\u001b[0m\n\u001b[0;32m----> 6\u001b[0;31m \u001b[0mlasso_result\u001b[0m\u001b[0;34m(\u001b[0m\u001b[0mX_train\u001b[0m\u001b[0;34m,\u001b[0m \u001b[0my_train\u001b[0m\u001b[0;34m,\u001b[0m \u001b[0mX_test\u001b[0m\u001b[0;34m,\u001b[0m \u001b[0my_test\u001b[0m\u001b[0;34m)\u001b[0m\u001b[0;34m\u001b[0m\u001b[0;34m\u001b[0m\u001b[0m\n\u001b[0m",
            "\u001b[0;32m<ipython-input-45-17f290e922f3>\u001b[0m in \u001b[0;36mlasso_result\u001b[0;34m(X_train, y_train, X_test, y_test)\u001b[0m\n\u001b[1;32m      4\u001b[0m   \u001b[0mlasso001\u001b[0m \u001b[0;34m=\u001b[0m \u001b[0mLasso\u001b[0m\u001b[0;34m(\u001b[0m\u001b[0malpha\u001b[0m\u001b[0;34m=\u001b[0m\u001b[0;36m0.01\u001b[0m\u001b[0;34m,\u001b[0m \u001b[0mmax_iter\u001b[0m\u001b[0;34m=\u001b[0m\u001b[0;36m100000\u001b[0m\u001b[0;34m)\u001b[0m\u001b[0;34m.\u001b[0m\u001b[0mfit\u001b[0m\u001b[0;34m(\u001b[0m\u001b[0mX_train\u001b[0m\u001b[0;34m,\u001b[0m \u001b[0my_train\u001b[0m\u001b[0;34m)\u001b[0m\u001b[0;34m\u001b[0m\u001b[0;34m\u001b[0m\u001b[0m\n\u001b[1;32m      5\u001b[0m   \u001b[0my_pred\u001b[0m \u001b[0;34m=\u001b[0m \u001b[0mlasso001\u001b[0m\u001b[0;34m.\u001b[0m\u001b[0mpredict\u001b[0m\u001b[0;34m(\u001b[0m\u001b[0mX_test\u001b[0m\u001b[0;34m)\u001b[0m\u001b[0;34m\u001b[0m\u001b[0;34m\u001b[0m\u001b[0m\n\u001b[0;32m----> 6\u001b[0;31m   \u001b[0macc_vir_ba_gcd\u001b[0m \u001b[0;34m=\u001b[0m \u001b[0maccuracy_score\u001b[0m\u001b[0;34m(\u001b[0m\u001b[0my_test\u001b[0m\u001b[0;34m,\u001b[0m \u001b[0my_pred\u001b[0m\u001b[0;34m)\u001b[0m\u001b[0;34m\u001b[0m\u001b[0;34m\u001b[0m\u001b[0m\n\u001b[0m\u001b[1;32m      7\u001b[0m   \u001b[0;31m# print(\"Training set score: {:.2f}\".format(lasso001.score(X_train, y_train)))\u001b[0m\u001b[0;34m\u001b[0m\u001b[0;34m\u001b[0m\u001b[0;34m\u001b[0m\u001b[0m\n\u001b[1;32m      8\u001b[0m   \u001b[0;31m# print(\"Test set score: {:.2f}\".format(lasso001.score(X_test, y_test)))\u001b[0m\u001b[0;34m\u001b[0m\u001b[0;34m\u001b[0m\u001b[0;34m\u001b[0m\u001b[0m\n",
            "\u001b[0;32m/usr/local/lib/python3.7/dist-packages/sklearn/metrics/_classification.py\u001b[0m in \u001b[0;36maccuracy_score\u001b[0;34m(y_true, y_pred, normalize, sample_weight)\u001b[0m\n\u001b[1;32m    183\u001b[0m \u001b[0;34m\u001b[0m\u001b[0m\n\u001b[1;32m    184\u001b[0m     \u001b[0;31m# Compute accuracy for each possible representation\u001b[0m\u001b[0;34m\u001b[0m\u001b[0;34m\u001b[0m\u001b[0;34m\u001b[0m\u001b[0m\n\u001b[0;32m--> 185\u001b[0;31m     \u001b[0my_type\u001b[0m\u001b[0;34m,\u001b[0m \u001b[0my_true\u001b[0m\u001b[0;34m,\u001b[0m \u001b[0my_pred\u001b[0m \u001b[0;34m=\u001b[0m \u001b[0m_check_targets\u001b[0m\u001b[0;34m(\u001b[0m\u001b[0my_true\u001b[0m\u001b[0;34m,\u001b[0m \u001b[0my_pred\u001b[0m\u001b[0;34m)\u001b[0m\u001b[0;34m\u001b[0m\u001b[0;34m\u001b[0m\u001b[0m\n\u001b[0m\u001b[1;32m    186\u001b[0m     \u001b[0mcheck_consistent_length\u001b[0m\u001b[0;34m(\u001b[0m\u001b[0my_true\u001b[0m\u001b[0;34m,\u001b[0m \u001b[0my_pred\u001b[0m\u001b[0;34m,\u001b[0m \u001b[0msample_weight\u001b[0m\u001b[0;34m)\u001b[0m\u001b[0;34m\u001b[0m\u001b[0;34m\u001b[0m\u001b[0m\n\u001b[1;32m    187\u001b[0m     \u001b[0;32mif\u001b[0m \u001b[0my_type\u001b[0m\u001b[0;34m.\u001b[0m\u001b[0mstartswith\u001b[0m\u001b[0;34m(\u001b[0m\u001b[0;34m'multilabel'\u001b[0m\u001b[0;34m)\u001b[0m\u001b[0;34m:\u001b[0m\u001b[0;34m\u001b[0m\u001b[0;34m\u001b[0m\u001b[0m\n",
            "\u001b[0;32m/usr/local/lib/python3.7/dist-packages/sklearn/metrics/_classification.py\u001b[0m in \u001b[0;36m_check_targets\u001b[0;34m(y_true, y_pred)\u001b[0m\n\u001b[1;32m     88\u001b[0m     \u001b[0;32mif\u001b[0m \u001b[0mlen\u001b[0m\u001b[0;34m(\u001b[0m\u001b[0my_type\u001b[0m\u001b[0;34m)\u001b[0m \u001b[0;34m>\u001b[0m \u001b[0;36m1\u001b[0m\u001b[0;34m:\u001b[0m\u001b[0;34m\u001b[0m\u001b[0;34m\u001b[0m\u001b[0m\n\u001b[1;32m     89\u001b[0m         raise ValueError(\"Classification metrics can't handle a mix of {0} \"\n\u001b[0;32m---> 90\u001b[0;31m                          \"and {1} targets\".format(type_true, type_pred))\n\u001b[0m\u001b[1;32m     91\u001b[0m \u001b[0;34m\u001b[0m\u001b[0m\n\u001b[1;32m     92\u001b[0m     \u001b[0;31m# We can't have more than one value on y_type => The set is no more needed\u001b[0m\u001b[0;34m\u001b[0m\u001b[0;34m\u001b[0m\u001b[0;34m\u001b[0m\u001b[0m\n",
            "\u001b[0;31mValueError\u001b[0m: Classification metrics can't handle a mix of binary and continuous targets"
          ]
        }
      ]
    },
    {
      "cell_type": "code",
      "metadata": {
        "colab": {
          "base_uri": "https://localhost:8080/"
        },
        "id": "WI0i9DZ2_zu1",
        "outputId": "72173ae1-77b2-444b-b7a7-83a1bfeec6d1"
      },
      "source": [
        "# Lasso train on virtual data test on real data (GDA generated)\n",
        "X_train = hr0_virtual_data.drop(columns='Mortality')\n",
        "y_train = hr0_virtual_data.Mortality\n",
        "X_test = original_df.drop(columns='Mortality')\n",
        "y_test = original_df.Mortality\n",
        "lasso_result(X_train, y_train, X_test, y_test)"
      ],
      "execution_count": null,
      "outputs": [
        {
          "output_type": "stream",
          "text": [
            "Training set score: 0.81\n",
            "Test set score: 0.65\n",
            "Number of features used: 12\n"
          ],
          "name": "stdout"
        }
      ]
    },
    {
      "cell_type": "code",
      "metadata": {
        "colab": {
          "base_uri": "https://localhost:8080/"
        },
        "id": "75whi2fu_zwo",
        "outputId": "7687ae96-2e89-405e-e52d-4edc15c41db7"
      },
      "source": [
        "# GDA train on real+virtual data test on real data (GDA generated)\n",
        "X_train = pd.concat([hr0_virtual_data.drop(columns='Mortality'), trauma_data.drop(columns='Mortality')])\n",
        "y_train = pd.concat([hr0_virtual_data.Mortality, trauma_data.Mortality])\n",
        "X_test = final_test_set.drop(columns='Mortality')\n",
        "y_test = final_test_set.Mortality\n",
        "lasso_result(X_train, y_train, X_test, y_test)"
      ],
      "execution_count": null,
      "outputs": [
        {
          "output_type": "stream",
          "text": [
            "Training set score: 0.81\n",
            "Test set score: 0.53\n",
            "Number of features used: 12\n"
          ],
          "name": "stdout"
        }
      ]
    },
    {
      "cell_type": "code",
      "metadata": {
        "colab": {
          "base_uri": "https://localhost:8080/"
        },
        "id": "KlyiDfml_zy1",
        "outputId": "8fa9eb98-2381-4c77-d63c-8ef74c0fe5cb"
      },
      "source": [
        "# GDA train on virtual data and test on real data (VAE generated)\n",
        "X_train = pd.concat([result_0.drop(columns='Mortality'), result_1.drop(columns='Mortality')])\n",
        "y_train = pd.concat([result_0.Mortality, result_1.Mortality])\n",
        "X_test = original_df.drop(columns='Mortality')\n",
        "y_test = original_df.Mortality\n",
        "lasso_result(X_train, y_train, X_test, y_test)"
      ],
      "execution_count": null,
      "outputs": [
        {
          "output_type": "stream",
          "text": [
            "Training set score: 0.99\n",
            "Test set score: -0.81\n",
            "Number of features used: 9\n"
          ],
          "name": "stdout"
        }
      ]
    },
    {
      "cell_type": "code",
      "metadata": {
        "colab": {
          "base_uri": "https://localhost:8080/"
        },
        "id": "3c8wjttM_z1j",
        "outputId": "1f8cc57c-7f50-4fdd-b2f5-381940484f70"
      },
      "source": [
        "# GDA train on real+virtual data test on real data (VAE generated)\n",
        "X_train = pd.concat([result_0.drop(columns='Mortality'), result_1.drop(columns='Mortality'), trauma_data.drop(columns='Mortality')])\n",
        "y_train = pd.concat([result_0.Mortality, result_1.Mortality, trauma_data.Mortality])\n",
        "X_test = final_test_set.drop(columns='Mortality')\n",
        "y_test = final_test_set.Mortality\n",
        "lasso_result(X_train, y_train, X_test, y_test)"
      ],
      "execution_count": null,
      "outputs": [
        {
          "output_type": "stream",
          "text": [
            "Training set score: 0.98\n",
            "Test set score: -0.03\n",
            "Number of features used: 10\n"
          ],
          "name": "stdout"
        }
      ]
    },
    {
      "cell_type": "code",
      "metadata": {
        "id": "wo0jmFnHBxfJ"
      },
      "source": [
        ""
      ],
      "execution_count": null,
      "outputs": []
    },
    {
      "cell_type": "code",
      "metadata": {
        "id": "3BbEmGWMBxh7"
      },
      "source": [
        ""
      ],
      "execution_count": null,
      "outputs": []
    },
    {
      "cell_type": "code",
      "metadata": {
        "id": "PpO-cK0fBxs5"
      },
      "source": [
        ""
      ],
      "execution_count": null,
      "outputs": []
    },
    {
      "cell_type": "markdown",
      "metadata": {
        "id": "Vcy82vPDWScM"
      },
      "source": [
        "**Use Random Forest Model to test usefulness of the generated data**"
      ]
    },
    {
      "cell_type": "code",
      "metadata": {
        "id": "Bc0vyX03rWrb"
      },
      "source": [
        "# Random Forest Model - Cross Validate\n",
        "rfc = RandomForestClassifier(n_estimators= 500, class_weight='balanced')\n",
        "cv = RepeatedStratifiedKFold(n_splits=10, n_repeats=3, random_state=42)\n",
        "#RFC cv on real\n",
        "X = original_df.drop(columns='Mortality')\n",
        "y = original_df.Mortality\n",
        "scores = cross_val_score(rfc, X, y, scoring='accuracy', cv=cv, n_jobs=-1, error_score='raise')\n",
        "print('Mean Accuracy: %.3f (%.3f)' % (mean(scores), std(scores)))\n",
        "scores = cross_val_score(rfc, X, y, scoring='roc_auc', cv=cv, n_jobs=-1, error_score='raise')\n",
        "print('Mean auc: %.3f (%.3f)' % (mean(scores), std(scores)))"
      ],
      "execution_count": null,
      "outputs": []
    },
    {
      "cell_type": "code",
      "metadata": {
        "colab": {
          "base_uri": "https://localhost:8080/"
        },
        "id": "hjFCwq0Ks1IM",
        "outputId": "c6c8ec7d-0cf7-458a-9a35-1ff9519e1bf7"
      },
      "source": [
        "# RFC train on virtual data test on real data (GDA generated)\n",
        "X_train = hr0_virtual_data.drop(columns='Mortality')\n",
        "y_train = hr0_virtual_data.Mortality\n",
        "X_test = original_df.drop(columns='Mortality')\n",
        "y_test = original_df.Mortality\n",
        "rfc = RandomForestClassifier(n_estimators= 500, class_weight='balanced')\n",
        "rfc.fit(X_train, y_train)\n",
        "y_pred = rfc.predict(X_test)\n",
        "acc_ba_vir_gcd = accuracy_score(y_test, y_pred)\n",
        "print(f'mean accuracy is {acc_ba_vir_gcd}')\n",
        "# print(confusion_matrix(y_test, y_pred))\n",
        "print('Mean auc: %.3f' % roc_auc_score(y_test, rfc.predict_proba(X_test)[:, 1]))"
      ],
      "execution_count": null,
      "outputs": [
        {
          "output_type": "stream",
          "text": [
            "mean accuracy is 0.9609164420485176\n",
            "Mean auc: 0.982\n"
          ],
          "name": "stdout"
        }
      ]
    },
    {
      "cell_type": "code",
      "metadata": {
        "colab": {
          "base_uri": "https://localhost:8080/"
        },
        "id": "EGM7jgtIs56A",
        "outputId": "63dc3387-7621-4922-fb57-fe8490c8b754"
      },
      "source": [
        "# RFC train on virtual data test on real data (VAE generated)\n",
        "X_train = pd.concat([result_0.drop(columns='Mortality'), result_1.drop(columns='Mortality')])\n",
        "y_train = pd.concat([result_0.Mortality, result_1.Mortality])\n",
        "X_test = original_df.drop(columns='Mortality')\n",
        "y_test = original_df.Mortality\n",
        "rfc = RandomForestClassifier(n_estimators= 500, class_weight='balanced')\n",
        "rfc.fit(X_train, y_train)\n",
        "y_pred = rfc.predict(X_test)\n",
        "acc_ba_vir_gcd = accuracy_score(y_test, y_pred)\n",
        "print(f'mean accuracy is {acc_ba_vir_gcd}')\n",
        "# print(confusion_matrix(y_test, y_pred))\n",
        "print('Mean auc: %.3f' % roc_auc_score(y_test, rfc.predict_proba(X_test)[:, 1]))"
      ],
      "execution_count": null,
      "outputs": [
        {
          "output_type": "stream",
          "text": [
            "mean accuracy is 0.29245283018867924\n",
            "Mean auc: 0.853\n"
          ],
          "name": "stdout"
        }
      ]
    },
    {
      "cell_type": "code",
      "metadata": {
        "colab": {
          "base_uri": "https://localhost:8080/"
        },
        "id": "rJMXCKyC00HJ",
        "outputId": "49795c08-9d6a-4123-ee1a-f3bb63e917c4"
      },
      "source": [
        "1 - 0.292452830"
      ],
      "execution_count": null,
      "outputs": [
        {
          "output_type": "execute_result",
          "data": {
            "text/plain": [
              "0.70754717"
            ]
          },
          "metadata": {
            "tags": []
          },
          "execution_count": 77
        }
      ]
    },
    {
      "cell_type": "code",
      "metadata": {
        "colab": {
          "base_uri": "https://localhost:8080/"
        },
        "id": "V7LK9dvvtYHt",
        "outputId": "d30c76d4-5f3e-47c1-d40a-00fa1112d8ce"
      },
      "source": [
        "# RFC train on real+virtual data test on real data (GDA generated)\n",
        "X_train = pd.concat([hr0_virtual_data.drop(columns='Mortality'), trauma_data.drop(columns='Mortality')])\n",
        "y_train = pd.concat([hr0_virtual_data.Mortality, trauma_data.Mortality])\n",
        "X_test = final_test_set.drop(columns='Mortality')\n",
        "y_test = final_test_set.Mortality\n",
        "rfc = RandomForestClassifier(n_estimators= 500, class_weight='balanced')\n",
        "rfc.fit(X_train, y_train)\n",
        "y_pred = rfc.predict(X_test)\n",
        "acc_ba_vir_gcd = accuracy_score(y_test, y_pred)\n",
        "print(f'mean accuracy is {acc_ba_vir_gcd}')\n",
        "# print(confusion_matrix(y_test, y_pred))\n",
        "print('Mean auc: %.3f' % roc_auc_score(y_test, rfc.predict_proba(X_test)[:, 1]))"
      ],
      "execution_count": null,
      "outputs": [
        {
          "output_type": "stream",
          "text": [
            "mean accuracy is 0.9427609427609428\n",
            "Mean auc: 0.955\n"
          ],
          "name": "stdout"
        }
      ]
    },
    {
      "cell_type": "code",
      "metadata": {
        "colab": {
          "base_uri": "https://localhost:8080/"
        },
        "id": "Az8A3f9dtY3v",
        "outputId": "c8ece434-9e3d-4eb3-ab52-4e1d677ed207"
      },
      "source": [
        "# RFC train on real+virtual data test on real data (VAE generated)\n",
        "X_train = pd.concat([result_0.drop(columns='Mortality'), result_1.drop(columns='Mortality'), trauma_data.drop(columns='Mortality')])\n",
        "y_train = pd.concat([result_0.Mortality, result_1.Mortality, trauma_data.Mortality])\n",
        "X_test = final_test_set.drop(columns='Mortality')\n",
        "y_test = final_test_set.Mortality\n",
        "rfc = RandomForestClassifier(n_estimators= 500, class_weight='balanced')\n",
        "rfc.fit(X_train, y_train)\n",
        "y_pred = rfc.predict(X_test)\n",
        "acc_ba_vir_gcd = accuracy_score(y_test, y_pred)\n",
        "print(f'mean accuracy is {acc_ba_vir_gcd}')\n",
        "# print(confusion_matrix(y_test, y_pred))\n",
        "print('Mean auc: %.3f' % roc_auc_score(y_test, rfc.predict_proba(X_test)[:, 1]))"
      ],
      "execution_count": null,
      "outputs": [
        {
          "output_type": "stream",
          "text": [
            "mean accuracy is 0.9292929292929293\n",
            "Mean auc: 0.965\n"
          ],
          "name": "stdout"
        }
      ]
    },
    {
      "cell_type": "markdown",
      "metadata": {
        "id": "QhG86-xG3DyQ"
      },
      "source": [
        "Cross-val on partial trauma_data"
      ]
    },
    {
      "cell_type": "markdown",
      "metadata": {
        "id": "yaV6ZATS2ylQ"
      },
      "source": [
        "Cross-val\n",
        "\n",
        "Train/Test: real dataset ~ 1400 samples"
      ]
    },
    {
      "cell_type": "code",
      "metadata": {
        "colab": {
          "base_uri": "https://localhost:8080/"
        },
        "id": "RF60TYdMTdwE",
        "outputId": "bcea963e-3dc3-47f8-abc5-23bea75bdfaa"
      },
      "source": [
        "# classify \n",
        "X_train = trauma_data.loc[:, trauma_data.columns != 'Mortality']\n",
        "y_train = trauma_data['Mortality']\n",
        "X_test = final_test_set.loc[:, trauma_data.columns != 'Mortality']\n",
        "y_test = final_test_set['Mortality']\n",
        "model = RandomForestClassifier(n_estimators= 500, class_weight='balanced')\n",
        "model.fit(X_train, y_train)\n",
        "y_pred = model.predict(X_test)\n",
        "print(f'mean accuracy is {accuracy_score(y_pred, y_test)}')\n",
        "print(confusion_matrix(y_pred, y_test))\n",
        "# classify with cross-val\n",
        "X = pd.concat([trauma_data, final_test_set])\n",
        "y = X['Mortality']\n",
        "scores = cross_val_score(model, X.loc[:, X.columns != 'Mortality'], y, scoring='accuracy', cv=cv, n_jobs=-1, error_score='raise')\n",
        "real_score = mean(scores)\n",
        "print('Mean Accuracy: %.3f (%.3f)' % (real_score, std(scores)))"
      ],
      "execution_count": null,
      "outputs": [
        {
          "output_type": "stream",
          "text": [
            "mean accuracy is 0.9259259259259259\n",
            "[[232  12]\n",
            " [ 10  43]]\n",
            "Mean Accuracy: 0.958 (0.015)\n"
          ],
          "name": "stdout"
        }
      ]
    },
    {
      "cell_type": "markdown",
      "metadata": {
        "id": "77vsuAIS3IZg"
      },
      "source": [
        "single prediction\n",
        "\n",
        "Train: real+virtual ~ 120,000 samples\n",
        "\n",
        "Test: initial_test_set (real)"
      ]
    },
    {
      "cell_type": "code",
      "metadata": {
        "colab": {
          "base_uri": "https://localhost:8080/"
        },
        "id": "-oKv_p7QQODj",
        "outputId": "8ea0a9a0-eccf-425f-bc90-ba0cda2a2ece"
      },
      "source": [
        "X_train = combined_df_inbalanced.loc[:, combined_df_inbalanced.columns != 'Mortality']\n",
        "y_train = combined_df_inbalanced['Mortality']\n",
        "X_test = final_test_set.loc[:, combined_df_inbalanced.columns != 'Mortality']\n",
        "y_test = final_test_set['Mortality']\n",
        "tic = time.clock()\n",
        "model = RandomForestClassifier(n_estimators= 500, class_weight='balanced')\n",
        "model.fit(X_train, y_train)\n",
        "tok = time.clock()\n",
        "y_pred = model.predict(X_test)\n",
        "acc_inba_vir_vae = accuracy_score(y_pred, y_test)\n",
        "print(f'mean accuracy is {acc_inba_vir_vae}')\n",
        "print(confusion_matrix(y_pred, y_test))\n",
        "\n",
        "print(f'fit time: {tok - tic}')"
      ],
      "execution_count": null,
      "outputs": [
        {
          "output_type": "stream",
          "text": [
            "mean accuracy is 0.9326599326599326\n",
            "[[232  10]\n",
            " [ 10  45]]\n",
            "fit time: 143.215625\n"
          ],
          "name": "stdout"
        }
      ]
    },
    {
      "cell_type": "markdown",
      "metadata": {
        "id": "P3v9wmrHDkIy"
      },
      "source": [
        "Train with a balanced generated dataset"
      ]
    },
    {
      "cell_type": "code",
      "metadata": {
        "id": "2B8iDSt-JmEO"
      },
      "source": [
        "# make a balanced dataset\n",
        "total_nums_1 = ((100000 - n_1) // x_test_1.shape[0]) + 1\n",
        "result_1 = vae_generate(vae_1, x_test_1, 1, total_nums = total_nums_1)\n",
        "combined_df_balanced = pd.concat([trauma_data, result_0, result_1])"
      ],
      "execution_count": null,
      "outputs": []
    },
    {
      "cell_type": "code",
      "metadata": {
        "colab": {
          "base_uri": "https://localhost:8080/"
        },
        "id": "C7wxswyD0eIH",
        "outputId": "cbdfddaa-01b7-4b7e-bb73-ae548abf663a"
      },
      "source": [
        "combined_df_balanced.shape"
      ],
      "execution_count": null,
      "outputs": [
        {
          "output_type": "execute_result",
          "data": {
            "text/plain": [
              "(200171, 20)"
            ]
          },
          "metadata": {
            "tags": []
          },
          "execution_count": 104
        }
      ]
    },
    {
      "cell_type": "markdown",
      "metadata": {
        "id": "PQrq39yIM9yu"
      },
      "source": [
        "single prediction\n",
        "\n",
        "Train: real+virtual ~ 200,000 samples (balanced)\n",
        "\n",
        "Test: initial_test_set (real)"
      ]
    },
    {
      "cell_type": "code",
      "metadata": {
        "colab": {
          "base_uri": "https://localhost:8080/"
        },
        "id": "yYcLSbNq0DL6",
        "outputId": "ad085c70-3ce9-40ca-d2d5-a79d32fe83fe"
      },
      "source": [
        "X_train = combined_df_balanced.loc[:, combined_df_balanced.columns != 'Mortality']\n",
        "y_train = combined_df_balanced['Mortality']\n",
        "X_test = final_test_set.loc[:, combined_df_balanced.columns != 'Mortality']\n",
        "y_test = final_test_set['Mortality']\n",
        "tic = time.clock()\n",
        "model = RandomForestClassifier(n_estimators= 500, class_weight='balanced')\n",
        "model.fit(X_train, y_train)\n",
        "tok = time.clock()\n",
        "y_pred = model.predict(X_test)\n",
        "acc_ba_vir_vae = accuracy_score(y_pred, y_test)\n",
        "print(f'mean accuracy is {acc_ba_vir_vae}')\n",
        "print(confusion_matrix(y_pred, y_test))\n",
        "\n",
        "print(f'fit time: {tok - tic}')"
      ],
      "execution_count": null,
      "outputs": [
        {
          "output_type": "stream",
          "text": [
            "mean accuracy is 0.9326599326599326\n",
            "[[232  10]\n",
            " [ 10  45]]\n",
            "fit time: 307.362039\n"
          ],
          "name": "stdout"
        }
      ]
    },
    {
      "cell_type": "code",
      "metadata": {
        "id": "b6cWkkXxVCW7"
      },
      "source": [
        "# trauma_data = pd.read_excel('gdrive/MyDrive/SF_IMPUTED.xlsx')\n",
        "# trauma_data.drop(columns='hr0_ptt.1', inplace=True)\n",
        "\n",
        "# features = ['hr0_temp', 'hr0_resprate', 'hr0_bun', 'hr0_creatinine', 'hr0_pt', 'hr0_ptt', 'hr0_inr']\n",
        "# for f in features:\n",
        "#   trauma_data[f] = np.log(trauma_data[f])"
      ],
      "execution_count": null,
      "outputs": []
    },
    {
      "cell_type": "code",
      "metadata": {
        "id": "lKYsXJ70V1Mp"
      },
      "source": [
        "# class_0_samples_df.to_csv('./gdrive/MyDrive/Mortality_0_Virtual_Patients.csv', index=False)"
      ],
      "execution_count": null,
      "outputs": []
    },
    {
      "cell_type": "code",
      "metadata": {
        "id": "cYx7SOADUTAY"
      },
      "source": [
        ""
      ],
      "execution_count": null,
      "outputs": []
    },
    {
      "cell_type": "code",
      "metadata": {
        "id": "86MbG-4m2g69"
      },
      "source": [
        ""
      ],
      "execution_count": null,
      "outputs": []
    },
    {
      "cell_type": "code",
      "metadata": {
        "id": "g7f87BiKOX9Z"
      },
      "source": [
        ""
      ],
      "execution_count": null,
      "outputs": []
    },
    {
      "cell_type": "code",
      "metadata": {
        "id": "oxgSm9R_OX_1"
      },
      "source": [
        ""
      ],
      "execution_count": null,
      "outputs": []
    },
    {
      "cell_type": "code",
      "metadata": {
        "id": "Q4kTGcaoOYCT"
      },
      "source": [
        ""
      ],
      "execution_count": null,
      "outputs": []
    },
    {
      "cell_type": "markdown",
      "metadata": {
        "id": "zs58m4RENY9c"
      },
      "source": [
        "**Visualize Accuracy with different methods**"
      ]
    },
    {
      "cell_type": "code",
      "metadata": {
        "colab": {
          "base_uri": "https://localhost:8080/",
          "height": 500
        },
        "id": "uKB7G-4BNftJ",
        "outputId": "8ab9fbbc-f91c-4478-d4c1-dc6c0edba8fd"
      },
      "source": [
        "x = ['real_patient_only', 'virtual_inbalanced_vae', 'virtual_balanced_vae', 'virtual_balanced_gda']\n",
        "y = [real_score, acc_inba_vir_vae, acc_ba_vir_vae, acc_ba_vir_gcd]\n",
        "fig, ax = plt.subplots(figsize=(10,8))\n",
        "ax.set_title('Accuracy of VAE and GDA')\n",
        "ax.bar(x, y, width=0.3)\n",
        "ax.set_xticks(np.arange(4))\n",
        "ax.set_xticklabels(x)\n",
        "ax.set_ylabel('Accuracy')\n",
        "for i, v in enumerate(y):\n",
        "    ax.text(i-0.25, v + 0.01, float(v)*100, color='blue', fontweight='bold')\n",
        "fig.show()"
      ],
      "execution_count": null,
      "outputs": [
        {
          "output_type": "display_data",
          "data": {
            "image/png": "[encoded data removed]",
            "text/plain": [
              "<Figure size 720x576 with 1 Axes>"
            ]
          },
          "metadata": {
            "tags": [],
            "needs_background": "light"
          }
        }
      ]
    },
    {
      "cell_type": "code",
      "metadata": {
        "id": "1RNJNiwt7r-_"
      },
      "source": [
        ""
      ],
      "execution_count": null,
      "outputs": []
    }
  ]
}